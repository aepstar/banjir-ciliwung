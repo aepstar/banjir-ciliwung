{
  "cells": [
    {
      "cell_type": "markdown",
      "metadata": {
        "id": "view-in-github",
        "colab_type": "text"
      },
      "source": [
        "<a href=\"https://colab.research.google.com/github/aepstar/banjir-ciliwung/blob/main/Multivariate_Multi_step_LSTM_Manggarai_Only_v0_6_6_9999.ipynb\" target=\"_parent\"><img src=\"https://colab.research.google.com/assets/colab-badge.svg\" alt=\"Open In Colab\"/></a>"
      ]
    },
    {
      "cell_type": "markdown",
      "metadata": {
        "id": "60YcyevGhYWh"
      },
      "source": [
        "Pemodelan prediksi ketinggian muka air di Katulampa, Depok, KBR2, KBR4 dan Manggarai.\n",
        "\n",
        "Data training dimulai dari tanggal 2022-08-01 00:00:00 sampai dengan 2022-12-31 23:59:00. Data testing dimulai dari 2023-01-01 00:00:00 sampai 2023-03-28 00:00:00.\n",
        "\n",
        "Pembuatan model dengan parameter LSTM(100), data historis selama 7 hari (7x24 jam) untuk memprediksi 6 jam ke depan.\n",
        "\n",
        "Scaler menggunakan MinMaxdScaler()"
      ]
    },
    {
      "cell_type": "code",
      "execution_count": null,
      "metadata": {
        "colab": {
          "base_uri": "https://localhost:8080/"
        },
        "id": "oGPFRMZeG7xH",
        "outputId": "674f11aa-292a-4b01-c06c-6e0c832e8ed4"
      },
      "outputs": [
        {
          "output_type": "stream",
          "name": "stdout",
          "text": [
            "Mounted at /content/drive\n"
          ]
        }
      ],
      "source": [
        "from google.colab import drive\n",
        "drive.mount('/content/drive', force_remount=True)"
      ]
    },
    {
      "cell_type": "code",
      "execution_count": null,
      "metadata": {
        "id": "gqw5-LpC-zcJ"
      },
      "outputs": [],
      "source": [
        "# multivariate multi-step data preparation\n",
        "import pandas as pd\n",
        "from numpy import array, hstack, delete, squeeze\n",
        "from numpy.random import seed\n",
        "from math import sqrt\n",
        "from sklearn.metrics import mean_squared_error\n",
        "from sklearn.preprocessing import StandardScaler, MinMaxScaler\n",
        "from keras.models import Sequential\n",
        "from keras.layers import LSTM, Dense, RepeatVector, TimeDistributed\n",
        "from keras.callbacks import ModelCheckpoint\n",
        "from keras import optimizers\n",
        "from tensorflow.random import set_seed\n",
        "\n",
        "from __future__ import print_function\n",
        "\n",
        "import os\n",
        "os.environ[\"THEANO_FLAGS\"] = \"mode=FAST_RUN,device=gpu,floatX=float32\"\n",
        "\n",
        "\n",
        "import matplotlib.pyplot as plt\n",
        "import math\n",
        "\n",
        "%matplotlib inline\n"
      ]
    },
    {
      "cell_type": "code",
      "execution_count": null,
      "metadata": {
        "colab": {
          "base_uri": "https://localhost:8080/"
        },
        "id": "dFkhfuqKPVZv",
        "outputId": "9c34c8c4-beaa-4376-fd81-f749c2f0eca0"
      },
      "outputs": [
        {
          "output_type": "execute_result",
          "data": {
            "text/plain": [
              "['CRM',\n",
              " 'JSC Pengendalian Banjir DKI',\n",
              " 'Manticore Indonesia',\n",
              " 'Materi Training JSC',\n",
              " 'Multimedia Starcore',\n",
              " 'Outing Starcore',\n",
              " 'SAB Wyeth',\n",
              " 'SAS HACKATHON 2023',\n",
              " 'SCADS',\n",
              " 'SCADS - Core',\n",
              " 'Skystar Omnisight',\n",
              " 'Starcore Anniversary',\n",
              " 'Starcore Event Organizer',\n",
              " 'StarCore Learning Center',\n",
              " 'Transformasi Digital - JSC',\n",
              " 'Vivi Program']"
            ]
          },
          "metadata": {},
          "execution_count": 3
        }
      ],
      "source": [
        "os.listdir(\"drive/Shareddrives\")"
      ]
    },
    {
      "cell_type": "code",
      "source": [
        "os.listdir(\"drive/Shareddrives/JSC Pengendalian Banjir DKI/Flood Mgt 2022-2023/Data\")"
      ],
      "metadata": {
        "id": "6NGHvrvO2scd"
      },
      "execution_count": null,
      "outputs": []
    },
    {
      "cell_type": "code",
      "execution_count": null,
      "metadata": {
        "id": "e6tiVvDWXxlT"
      },
      "outputs": [],
      "source": [
        "tma = pd.read_csv(\"drive/Shareddrives/JSC Pengendalian Banjir DKI/Flood Mgt 2022-2023/Data/dsda_rupom_tma_wide.csv\", sep = \",\")\n",
        "tma = tma.drop(columns=['BDR5'])"
      ]
    },
    {
      "cell_type": "code",
      "execution_count": null,
      "metadata": {
        "colab": {
          "base_uri": "https://localhost:8080/",
          "height": 206
        },
        "id": "5RMp3tCKQD2I",
        "outputId": "a787aa6c-9cef-49ca-a22c-6e4fd295c3bf"
      },
      "outputs": [
        {
          "output_type": "execute_result",
          "data": {
            "text/plain": [
              "               tanggal  Katulampa  Depok  Manggarai        KBR2         KBR4\n",
              "0  2022-08-01 00:00:00       18.0   77.0      585.0  913.128078  1132.861352\n",
              "1  2022-08-01 01:00:00       18.0   77.0      584.0  912.531145  1132.817396\n",
              "2  2022-08-01 02:00:00       18.0   76.0      584.0  913.884112  1132.781257\n",
              "3  2022-08-01 03:00:00       18.0   76.0      583.0  912.527483  1132.764147\n",
              "4  2022-08-01 04:00:00       19.0   77.0      583.0  911.968800  1132.749544"
            ],
            "text/html": [
              "\n",
              "  <div id=\"df-01f63614-92da-4afb-b4d1-cf9bdca77348\" class=\"colab-df-container\">\n",
              "    <div>\n",
              "<style scoped>\n",
              "    .dataframe tbody tr th:only-of-type {\n",
              "        vertical-align: middle;\n",
              "    }\n",
              "\n",
              "    .dataframe tbody tr th {\n",
              "        vertical-align: top;\n",
              "    }\n",
              "\n",
              "    .dataframe thead th {\n",
              "        text-align: right;\n",
              "    }\n",
              "</style>\n",
              "<table border=\"1\" class=\"dataframe\">\n",
              "  <thead>\n",
              "    <tr style=\"text-align: right;\">\n",
              "      <th></th>\n",
              "      <th>tanggal</th>\n",
              "      <th>Katulampa</th>\n",
              "      <th>Depok</th>\n",
              "      <th>Manggarai</th>\n",
              "      <th>KBR2</th>\n",
              "      <th>KBR4</th>\n",
              "    </tr>\n",
              "  </thead>\n",
              "  <tbody>\n",
              "    <tr>\n",
              "      <th>0</th>\n",
              "      <td>2022-08-01 00:00:00</td>\n",
              "      <td>18.0</td>\n",
              "      <td>77.0</td>\n",
              "      <td>585.0</td>\n",
              "      <td>913.128078</td>\n",
              "      <td>1132.861352</td>\n",
              "    </tr>\n",
              "    <tr>\n",
              "      <th>1</th>\n",
              "      <td>2022-08-01 01:00:00</td>\n",
              "      <td>18.0</td>\n",
              "      <td>77.0</td>\n",
              "      <td>584.0</td>\n",
              "      <td>912.531145</td>\n",
              "      <td>1132.817396</td>\n",
              "    </tr>\n",
              "    <tr>\n",
              "      <th>2</th>\n",
              "      <td>2022-08-01 02:00:00</td>\n",
              "      <td>18.0</td>\n",
              "      <td>76.0</td>\n",
              "      <td>584.0</td>\n",
              "      <td>913.884112</td>\n",
              "      <td>1132.781257</td>\n",
              "    </tr>\n",
              "    <tr>\n",
              "      <th>3</th>\n",
              "      <td>2022-08-01 03:00:00</td>\n",
              "      <td>18.0</td>\n",
              "      <td>76.0</td>\n",
              "      <td>583.0</td>\n",
              "      <td>912.527483</td>\n",
              "      <td>1132.764147</td>\n",
              "    </tr>\n",
              "    <tr>\n",
              "      <th>4</th>\n",
              "      <td>2022-08-01 04:00:00</td>\n",
              "      <td>19.0</td>\n",
              "      <td>77.0</td>\n",
              "      <td>583.0</td>\n",
              "      <td>911.968800</td>\n",
              "      <td>1132.749544</td>\n",
              "    </tr>\n",
              "  </tbody>\n",
              "</table>\n",
              "</div>\n",
              "    <div class=\"colab-df-buttons\">\n",
              "\n",
              "  <div class=\"colab-df-container\">\n",
              "    <button class=\"colab-df-convert\" onclick=\"convertToInteractive('df-01f63614-92da-4afb-b4d1-cf9bdca77348')\"\n",
              "            title=\"Convert this dataframe to an interactive table.\"\n",
              "            style=\"display:none;\">\n",
              "\n",
              "  <svg xmlns=\"http://www.w3.org/2000/svg\" height=\"24px\" viewBox=\"0 -960 960 960\">\n",
              "    <path d=\"M120-120v-720h720v720H120Zm60-500h600v-160H180v160Zm220 220h160v-160H400v160Zm0 220h160v-160H400v160ZM180-400h160v-160H180v160Zm440 0h160v-160H620v160ZM180-180h160v-160H180v160Zm440 0h160v-160H620v160Z\"/>\n",
              "  </svg>\n",
              "    </button>\n",
              "\n",
              "  <style>\n",
              "    .colab-df-container {\n",
              "      display:flex;\n",
              "      gap: 12px;\n",
              "    }\n",
              "\n",
              "    .colab-df-convert {\n",
              "      background-color: #E8F0FE;\n",
              "      border: none;\n",
              "      border-radius: 50%;\n",
              "      cursor: pointer;\n",
              "      display: none;\n",
              "      fill: #1967D2;\n",
              "      height: 32px;\n",
              "      padding: 0 0 0 0;\n",
              "      width: 32px;\n",
              "    }\n",
              "\n",
              "    .colab-df-convert:hover {\n",
              "      background-color: #E2EBFA;\n",
              "      box-shadow: 0px 1px 2px rgba(60, 64, 67, 0.3), 0px 1px 3px 1px rgba(60, 64, 67, 0.15);\n",
              "      fill: #174EA6;\n",
              "    }\n",
              "\n",
              "    .colab-df-buttons div {\n",
              "      margin-bottom: 4px;\n",
              "    }\n",
              "\n",
              "    [theme=dark] .colab-df-convert {\n",
              "      background-color: #3B4455;\n",
              "      fill: #D2E3FC;\n",
              "    }\n",
              "\n",
              "    [theme=dark] .colab-df-convert:hover {\n",
              "      background-color: #434B5C;\n",
              "      box-shadow: 0px 1px 3px 1px rgba(0, 0, 0, 0.15);\n",
              "      filter: drop-shadow(0px 1px 2px rgba(0, 0, 0, 0.3));\n",
              "      fill: #FFFFFF;\n",
              "    }\n",
              "  </style>\n",
              "\n",
              "    <script>\n",
              "      const buttonEl =\n",
              "        document.querySelector('#df-01f63614-92da-4afb-b4d1-cf9bdca77348 button.colab-df-convert');\n",
              "      buttonEl.style.display =\n",
              "        google.colab.kernel.accessAllowed ? 'block' : 'none';\n",
              "\n",
              "      async function convertToInteractive(key) {\n",
              "        const element = document.querySelector('#df-01f63614-92da-4afb-b4d1-cf9bdca77348');\n",
              "        const dataTable =\n",
              "          await google.colab.kernel.invokeFunction('convertToInteractive',\n",
              "                                                    [key], {});\n",
              "        if (!dataTable) return;\n",
              "\n",
              "        const docLinkHtml = 'Like what you see? Visit the ' +\n",
              "          '<a target=\"_blank\" href=https://colab.research.google.com/notebooks/data_table.ipynb>data table notebook</a>'\n",
              "          + ' to learn more about interactive tables.';\n",
              "        element.innerHTML = '';\n",
              "        dataTable['output_type'] = 'display_data';\n",
              "        await google.colab.output.renderOutput(dataTable, element);\n",
              "        const docLink = document.createElement('div');\n",
              "        docLink.innerHTML = docLinkHtml;\n",
              "        element.appendChild(docLink);\n",
              "      }\n",
              "    </script>\n",
              "  </div>\n",
              "\n",
              "\n",
              "<div id=\"df-389a2cc5-ab94-49af-a628-994be193ab87\">\n",
              "  <button class=\"colab-df-quickchart\" onclick=\"quickchart('df-389a2cc5-ab94-49af-a628-994be193ab87')\"\n",
              "            title=\"Suggest charts\"\n",
              "            style=\"display:none;\">\n",
              "\n",
              "<svg xmlns=\"http://www.w3.org/2000/svg\" height=\"24px\"viewBox=\"0 0 24 24\"\n",
              "     width=\"24px\">\n",
              "    <g>\n",
              "        <path d=\"M19 3H5c-1.1 0-2 .9-2 2v14c0 1.1.9 2 2 2h14c1.1 0 2-.9 2-2V5c0-1.1-.9-2-2-2zM9 17H7v-7h2v7zm4 0h-2V7h2v10zm4 0h-2v-4h2v4z\"/>\n",
              "    </g>\n",
              "</svg>\n",
              "  </button>\n",
              "\n",
              "<style>\n",
              "  .colab-df-quickchart {\n",
              "      --bg-color: #E8F0FE;\n",
              "      --fill-color: #1967D2;\n",
              "      --hover-bg-color: #E2EBFA;\n",
              "      --hover-fill-color: #174EA6;\n",
              "      --disabled-fill-color: #AAA;\n",
              "      --disabled-bg-color: #DDD;\n",
              "  }\n",
              "\n",
              "  [theme=dark] .colab-df-quickchart {\n",
              "      --bg-color: #3B4455;\n",
              "      --fill-color: #D2E3FC;\n",
              "      --hover-bg-color: #434B5C;\n",
              "      --hover-fill-color: #FFFFFF;\n",
              "      --disabled-bg-color: #3B4455;\n",
              "      --disabled-fill-color: #666;\n",
              "  }\n",
              "\n",
              "  .colab-df-quickchart {\n",
              "    background-color: var(--bg-color);\n",
              "    border: none;\n",
              "    border-radius: 50%;\n",
              "    cursor: pointer;\n",
              "    display: none;\n",
              "    fill: var(--fill-color);\n",
              "    height: 32px;\n",
              "    padding: 0;\n",
              "    width: 32px;\n",
              "  }\n",
              "\n",
              "  .colab-df-quickchart:hover {\n",
              "    background-color: var(--hover-bg-color);\n",
              "    box-shadow: 0 1px 2px rgba(60, 64, 67, 0.3), 0 1px 3px 1px rgba(60, 64, 67, 0.15);\n",
              "    fill: var(--button-hover-fill-color);\n",
              "  }\n",
              "\n",
              "  .colab-df-quickchart-complete:disabled,\n",
              "  .colab-df-quickchart-complete:disabled:hover {\n",
              "    background-color: var(--disabled-bg-color);\n",
              "    fill: var(--disabled-fill-color);\n",
              "    box-shadow: none;\n",
              "  }\n",
              "\n",
              "  .colab-df-spinner {\n",
              "    border: 2px solid var(--fill-color);\n",
              "    border-color: transparent;\n",
              "    border-bottom-color: var(--fill-color);\n",
              "    animation:\n",
              "      spin 1s steps(1) infinite;\n",
              "  }\n",
              "\n",
              "  @keyframes spin {\n",
              "    0% {\n",
              "      border-color: transparent;\n",
              "      border-bottom-color: var(--fill-color);\n",
              "      border-left-color: var(--fill-color);\n",
              "    }\n",
              "    20% {\n",
              "      border-color: transparent;\n",
              "      border-left-color: var(--fill-color);\n",
              "      border-top-color: var(--fill-color);\n",
              "    }\n",
              "    30% {\n",
              "      border-color: transparent;\n",
              "      border-left-color: var(--fill-color);\n",
              "      border-top-color: var(--fill-color);\n",
              "      border-right-color: var(--fill-color);\n",
              "    }\n",
              "    40% {\n",
              "      border-color: transparent;\n",
              "      border-right-color: var(--fill-color);\n",
              "      border-top-color: var(--fill-color);\n",
              "    }\n",
              "    60% {\n",
              "      border-color: transparent;\n",
              "      border-right-color: var(--fill-color);\n",
              "    }\n",
              "    80% {\n",
              "      border-color: transparent;\n",
              "      border-right-color: var(--fill-color);\n",
              "      border-bottom-color: var(--fill-color);\n",
              "    }\n",
              "    90% {\n",
              "      border-color: transparent;\n",
              "      border-bottom-color: var(--fill-color);\n",
              "    }\n",
              "  }\n",
              "</style>\n",
              "\n",
              "  <script>\n",
              "    async function quickchart(key) {\n",
              "      const quickchartButtonEl =\n",
              "        document.querySelector('#' + key + ' button');\n",
              "      quickchartButtonEl.disabled = true;  // To prevent multiple clicks.\n",
              "      quickchartButtonEl.classList.add('colab-df-spinner');\n",
              "      try {\n",
              "        const charts = await google.colab.kernel.invokeFunction(\n",
              "            'suggestCharts', [key], {});\n",
              "      } catch (error) {\n",
              "        console.error('Error during call to suggestCharts:', error);\n",
              "      }\n",
              "      quickchartButtonEl.classList.remove('colab-df-spinner');\n",
              "      quickchartButtonEl.classList.add('colab-df-quickchart-complete');\n",
              "    }\n",
              "    (() => {\n",
              "      let quickchartButtonEl =\n",
              "        document.querySelector('#df-389a2cc5-ab94-49af-a628-994be193ab87 button');\n",
              "      quickchartButtonEl.style.display =\n",
              "        google.colab.kernel.accessAllowed ? 'block' : 'none';\n",
              "    })();\n",
              "  </script>\n",
              "</div>\n",
              "    </div>\n",
              "  </div>\n"
            ]
          },
          "metadata": {},
          "execution_count": 13
        }
      ],
      "source": [
        "tma.head()"
      ]
    },
    {
      "cell_type": "code",
      "execution_count": null,
      "metadata": {
        "colab": {
          "base_uri": "https://localhost:8080/",
          "height": 53
        },
        "id": "pUe6zpdwRZet",
        "outputId": "46f81d5a-2a1b-462d-b6ab-665d50013799"
      },
      "outputs": [
        {
          "output_type": "execute_result",
          "data": {
            "text/plain": [
              "Empty DataFrame\n",
              "Columns: [tanggal, Katulampa, Depok, Manggarai, KBR2, KBR4]\n",
              "Index: []"
            ],
            "text/html": [
              "\n",
              "  <div id=\"df-c25e238e-7f2f-4b05-a1d3-80ee1c630d6b\" class=\"colab-df-container\">\n",
              "    <div>\n",
              "<style scoped>\n",
              "    .dataframe tbody tr th:only-of-type {\n",
              "        vertical-align: middle;\n",
              "    }\n",
              "\n",
              "    .dataframe tbody tr th {\n",
              "        vertical-align: top;\n",
              "    }\n",
              "\n",
              "    .dataframe thead th {\n",
              "        text-align: right;\n",
              "    }\n",
              "</style>\n",
              "<table border=\"1\" class=\"dataframe\">\n",
              "  <thead>\n",
              "    <tr style=\"text-align: right;\">\n",
              "      <th></th>\n",
              "      <th>tanggal</th>\n",
              "      <th>Katulampa</th>\n",
              "      <th>Depok</th>\n",
              "      <th>Manggarai</th>\n",
              "      <th>KBR2</th>\n",
              "      <th>KBR4</th>\n",
              "    </tr>\n",
              "  </thead>\n",
              "  <tbody>\n",
              "  </tbody>\n",
              "</table>\n",
              "</div>\n",
              "    <div class=\"colab-df-buttons\">\n",
              "\n",
              "  <div class=\"colab-df-container\">\n",
              "    <button class=\"colab-df-convert\" onclick=\"convertToInteractive('df-c25e238e-7f2f-4b05-a1d3-80ee1c630d6b')\"\n",
              "            title=\"Convert this dataframe to an interactive table.\"\n",
              "            style=\"display:none;\">\n",
              "\n",
              "  <svg xmlns=\"http://www.w3.org/2000/svg\" height=\"24px\" viewBox=\"0 -960 960 960\">\n",
              "    <path d=\"M120-120v-720h720v720H120Zm60-500h600v-160H180v160Zm220 220h160v-160H400v160Zm0 220h160v-160H400v160ZM180-400h160v-160H180v160Zm440 0h160v-160H620v160ZM180-180h160v-160H180v160Zm440 0h160v-160H620v160Z\"/>\n",
              "  </svg>\n",
              "    </button>\n",
              "\n",
              "  <style>\n",
              "    .colab-df-container {\n",
              "      display:flex;\n",
              "      gap: 12px;\n",
              "    }\n",
              "\n",
              "    .colab-df-convert {\n",
              "      background-color: #E8F0FE;\n",
              "      border: none;\n",
              "      border-radius: 50%;\n",
              "      cursor: pointer;\n",
              "      display: none;\n",
              "      fill: #1967D2;\n",
              "      height: 32px;\n",
              "      padding: 0 0 0 0;\n",
              "      width: 32px;\n",
              "    }\n",
              "\n",
              "    .colab-df-convert:hover {\n",
              "      background-color: #E2EBFA;\n",
              "      box-shadow: 0px 1px 2px rgba(60, 64, 67, 0.3), 0px 1px 3px 1px rgba(60, 64, 67, 0.15);\n",
              "      fill: #174EA6;\n",
              "    }\n",
              "\n",
              "    .colab-df-buttons div {\n",
              "      margin-bottom: 4px;\n",
              "    }\n",
              "\n",
              "    [theme=dark] .colab-df-convert {\n",
              "      background-color: #3B4455;\n",
              "      fill: #D2E3FC;\n",
              "    }\n",
              "\n",
              "    [theme=dark] .colab-df-convert:hover {\n",
              "      background-color: #434B5C;\n",
              "      box-shadow: 0px 1px 3px 1px rgba(0, 0, 0, 0.15);\n",
              "      filter: drop-shadow(0px 1px 2px rgba(0, 0, 0, 0.3));\n",
              "      fill: #FFFFFF;\n",
              "    }\n",
              "  </style>\n",
              "\n",
              "    <script>\n",
              "      const buttonEl =\n",
              "        document.querySelector('#df-c25e238e-7f2f-4b05-a1d3-80ee1c630d6b button.colab-df-convert');\n",
              "      buttonEl.style.display =\n",
              "        google.colab.kernel.accessAllowed ? 'block' : 'none';\n",
              "\n",
              "      async function convertToInteractive(key) {\n",
              "        const element = document.querySelector('#df-c25e238e-7f2f-4b05-a1d3-80ee1c630d6b');\n",
              "        const dataTable =\n",
              "          await google.colab.kernel.invokeFunction('convertToInteractive',\n",
              "                                                    [key], {});\n",
              "        if (!dataTable) return;\n",
              "\n",
              "        const docLinkHtml = 'Like what you see? Visit the ' +\n",
              "          '<a target=\"_blank\" href=https://colab.research.google.com/notebooks/data_table.ipynb>data table notebook</a>'\n",
              "          + ' to learn more about interactive tables.';\n",
              "        element.innerHTML = '';\n",
              "        dataTable['output_type'] = 'display_data';\n",
              "        await google.colab.output.renderOutput(dataTable, element);\n",
              "        const docLink = document.createElement('div');\n",
              "        docLink.innerHTML = docLinkHtml;\n",
              "        element.appendChild(docLink);\n",
              "      }\n",
              "    </script>\n",
              "  </div>\n",
              "\n",
              "    </div>\n",
              "  </div>\n"
            ]
          },
          "metadata": {},
          "execution_count": 14
        }
      ],
      "source": [
        "tma[tma['Manggarai'].isna()]"
      ]
    },
    {
      "cell_type": "code",
      "execution_count": null,
      "metadata": {
        "colab": {
          "base_uri": "https://localhost:8080/",
          "height": 206
        },
        "id": "0BSPwdvlRj9M",
        "outputId": "0f965d8d-9363-44bd-9526-57cc5b53ff4b"
      },
      "outputs": [
        {
          "output_type": "execute_result",
          "data": {
            "text/plain": [
              "              tanggal  Katulampa  Depok  Manggarai        KBR2         KBR4\n",
              "0 2022-08-01 00:00:00       18.0   77.0      585.0  913.128078  1132.861352\n",
              "1 2022-08-01 01:00:00       18.0   77.0      584.0  912.531145  1132.817396\n",
              "2 2022-08-01 02:00:00       18.0   76.0      584.0  913.884112  1132.781257\n",
              "3 2022-08-01 03:00:00       18.0   76.0      583.0  912.527483  1132.764147\n",
              "4 2022-08-01 04:00:00       19.0   77.0      583.0  911.968800  1132.749544"
            ],
            "text/html": [
              "\n",
              "  <div id=\"df-126f9fc8-2021-40af-92de-c62ede8a400f\" class=\"colab-df-container\">\n",
              "    <div>\n",
              "<style scoped>\n",
              "    .dataframe tbody tr th:only-of-type {\n",
              "        vertical-align: middle;\n",
              "    }\n",
              "\n",
              "    .dataframe tbody tr th {\n",
              "        vertical-align: top;\n",
              "    }\n",
              "\n",
              "    .dataframe thead th {\n",
              "        text-align: right;\n",
              "    }\n",
              "</style>\n",
              "<table border=\"1\" class=\"dataframe\">\n",
              "  <thead>\n",
              "    <tr style=\"text-align: right;\">\n",
              "      <th></th>\n",
              "      <th>tanggal</th>\n",
              "      <th>Katulampa</th>\n",
              "      <th>Depok</th>\n",
              "      <th>Manggarai</th>\n",
              "      <th>KBR2</th>\n",
              "      <th>KBR4</th>\n",
              "    </tr>\n",
              "  </thead>\n",
              "  <tbody>\n",
              "    <tr>\n",
              "      <th>0</th>\n",
              "      <td>2022-08-01 00:00:00</td>\n",
              "      <td>18.0</td>\n",
              "      <td>77.0</td>\n",
              "      <td>585.0</td>\n",
              "      <td>913.128078</td>\n",
              "      <td>1132.861352</td>\n",
              "    </tr>\n",
              "    <tr>\n",
              "      <th>1</th>\n",
              "      <td>2022-08-01 01:00:00</td>\n",
              "      <td>18.0</td>\n",
              "      <td>77.0</td>\n",
              "      <td>584.0</td>\n",
              "      <td>912.531145</td>\n",
              "      <td>1132.817396</td>\n",
              "    </tr>\n",
              "    <tr>\n",
              "      <th>2</th>\n",
              "      <td>2022-08-01 02:00:00</td>\n",
              "      <td>18.0</td>\n",
              "      <td>76.0</td>\n",
              "      <td>584.0</td>\n",
              "      <td>913.884112</td>\n",
              "      <td>1132.781257</td>\n",
              "    </tr>\n",
              "    <tr>\n",
              "      <th>3</th>\n",
              "      <td>2022-08-01 03:00:00</td>\n",
              "      <td>18.0</td>\n",
              "      <td>76.0</td>\n",
              "      <td>583.0</td>\n",
              "      <td>912.527483</td>\n",
              "      <td>1132.764147</td>\n",
              "    </tr>\n",
              "    <tr>\n",
              "      <th>4</th>\n",
              "      <td>2022-08-01 04:00:00</td>\n",
              "      <td>19.0</td>\n",
              "      <td>77.0</td>\n",
              "      <td>583.0</td>\n",
              "      <td>911.968800</td>\n",
              "      <td>1132.749544</td>\n",
              "    </tr>\n",
              "  </tbody>\n",
              "</table>\n",
              "</div>\n",
              "    <div class=\"colab-df-buttons\">\n",
              "\n",
              "  <div class=\"colab-df-container\">\n",
              "    <button class=\"colab-df-convert\" onclick=\"convertToInteractive('df-126f9fc8-2021-40af-92de-c62ede8a400f')\"\n",
              "            title=\"Convert this dataframe to an interactive table.\"\n",
              "            style=\"display:none;\">\n",
              "\n",
              "  <svg xmlns=\"http://www.w3.org/2000/svg\" height=\"24px\" viewBox=\"0 -960 960 960\">\n",
              "    <path d=\"M120-120v-720h720v720H120Zm60-500h600v-160H180v160Zm220 220h160v-160H400v160Zm0 220h160v-160H400v160ZM180-400h160v-160H180v160Zm440 0h160v-160H620v160ZM180-180h160v-160H180v160Zm440 0h160v-160H620v160Z\"/>\n",
              "  </svg>\n",
              "    </button>\n",
              "\n",
              "  <style>\n",
              "    .colab-df-container {\n",
              "      display:flex;\n",
              "      gap: 12px;\n",
              "    }\n",
              "\n",
              "    .colab-df-convert {\n",
              "      background-color: #E8F0FE;\n",
              "      border: none;\n",
              "      border-radius: 50%;\n",
              "      cursor: pointer;\n",
              "      display: none;\n",
              "      fill: #1967D2;\n",
              "      height: 32px;\n",
              "      padding: 0 0 0 0;\n",
              "      width: 32px;\n",
              "    }\n",
              "\n",
              "    .colab-df-convert:hover {\n",
              "      background-color: #E2EBFA;\n",
              "      box-shadow: 0px 1px 2px rgba(60, 64, 67, 0.3), 0px 1px 3px 1px rgba(60, 64, 67, 0.15);\n",
              "      fill: #174EA6;\n",
              "    }\n",
              "\n",
              "    .colab-df-buttons div {\n",
              "      margin-bottom: 4px;\n",
              "    }\n",
              "\n",
              "    [theme=dark] .colab-df-convert {\n",
              "      background-color: #3B4455;\n",
              "      fill: #D2E3FC;\n",
              "    }\n",
              "\n",
              "    [theme=dark] .colab-df-convert:hover {\n",
              "      background-color: #434B5C;\n",
              "      box-shadow: 0px 1px 3px 1px rgba(0, 0, 0, 0.15);\n",
              "      filter: drop-shadow(0px 1px 2px rgba(0, 0, 0, 0.3));\n",
              "      fill: #FFFFFF;\n",
              "    }\n",
              "  </style>\n",
              "\n",
              "    <script>\n",
              "      const buttonEl =\n",
              "        document.querySelector('#df-126f9fc8-2021-40af-92de-c62ede8a400f button.colab-df-convert');\n",
              "      buttonEl.style.display =\n",
              "        google.colab.kernel.accessAllowed ? 'block' : 'none';\n",
              "\n",
              "      async function convertToInteractive(key) {\n",
              "        const element = document.querySelector('#df-126f9fc8-2021-40af-92de-c62ede8a400f');\n",
              "        const dataTable =\n",
              "          await google.colab.kernel.invokeFunction('convertToInteractive',\n",
              "                                                    [key], {});\n",
              "        if (!dataTable) return;\n",
              "\n",
              "        const docLinkHtml = 'Like what you see? Visit the ' +\n",
              "          '<a target=\"_blank\" href=https://colab.research.google.com/notebooks/data_table.ipynb>data table notebook</a>'\n",
              "          + ' to learn more about interactive tables.';\n",
              "        element.innerHTML = '';\n",
              "        dataTable['output_type'] = 'display_data';\n",
              "        await google.colab.output.renderOutput(dataTable, element);\n",
              "        const docLink = document.createElement('div');\n",
              "        docLink.innerHTML = docLinkHtml;\n",
              "        element.appendChild(docLink);\n",
              "      }\n",
              "    </script>\n",
              "  </div>\n",
              "\n",
              "\n",
              "<div id=\"df-4a4a7bf9-a1da-4b0f-9a86-a7e7ec8a17bb\">\n",
              "  <button class=\"colab-df-quickchart\" onclick=\"quickchart('df-4a4a7bf9-a1da-4b0f-9a86-a7e7ec8a17bb')\"\n",
              "            title=\"Suggest charts\"\n",
              "            style=\"display:none;\">\n",
              "\n",
              "<svg xmlns=\"http://www.w3.org/2000/svg\" height=\"24px\"viewBox=\"0 0 24 24\"\n",
              "     width=\"24px\">\n",
              "    <g>\n",
              "        <path d=\"M19 3H5c-1.1 0-2 .9-2 2v14c0 1.1.9 2 2 2h14c1.1 0 2-.9 2-2V5c0-1.1-.9-2-2-2zM9 17H7v-7h2v7zm4 0h-2V7h2v10zm4 0h-2v-4h2v4z\"/>\n",
              "    </g>\n",
              "</svg>\n",
              "  </button>\n",
              "\n",
              "<style>\n",
              "  .colab-df-quickchart {\n",
              "      --bg-color: #E8F0FE;\n",
              "      --fill-color: #1967D2;\n",
              "      --hover-bg-color: #E2EBFA;\n",
              "      --hover-fill-color: #174EA6;\n",
              "      --disabled-fill-color: #AAA;\n",
              "      --disabled-bg-color: #DDD;\n",
              "  }\n",
              "\n",
              "  [theme=dark] .colab-df-quickchart {\n",
              "      --bg-color: #3B4455;\n",
              "      --fill-color: #D2E3FC;\n",
              "      --hover-bg-color: #434B5C;\n",
              "      --hover-fill-color: #FFFFFF;\n",
              "      --disabled-bg-color: #3B4455;\n",
              "      --disabled-fill-color: #666;\n",
              "  }\n",
              "\n",
              "  .colab-df-quickchart {\n",
              "    background-color: var(--bg-color);\n",
              "    border: none;\n",
              "    border-radius: 50%;\n",
              "    cursor: pointer;\n",
              "    display: none;\n",
              "    fill: var(--fill-color);\n",
              "    height: 32px;\n",
              "    padding: 0;\n",
              "    width: 32px;\n",
              "  }\n",
              "\n",
              "  .colab-df-quickchart:hover {\n",
              "    background-color: var(--hover-bg-color);\n",
              "    box-shadow: 0 1px 2px rgba(60, 64, 67, 0.3), 0 1px 3px 1px rgba(60, 64, 67, 0.15);\n",
              "    fill: var(--button-hover-fill-color);\n",
              "  }\n",
              "\n",
              "  .colab-df-quickchart-complete:disabled,\n",
              "  .colab-df-quickchart-complete:disabled:hover {\n",
              "    background-color: var(--disabled-bg-color);\n",
              "    fill: var(--disabled-fill-color);\n",
              "    box-shadow: none;\n",
              "  }\n",
              "\n",
              "  .colab-df-spinner {\n",
              "    border: 2px solid var(--fill-color);\n",
              "    border-color: transparent;\n",
              "    border-bottom-color: var(--fill-color);\n",
              "    animation:\n",
              "      spin 1s steps(1) infinite;\n",
              "  }\n",
              "\n",
              "  @keyframes spin {\n",
              "    0% {\n",
              "      border-color: transparent;\n",
              "      border-bottom-color: var(--fill-color);\n",
              "      border-left-color: var(--fill-color);\n",
              "    }\n",
              "    20% {\n",
              "      border-color: transparent;\n",
              "      border-left-color: var(--fill-color);\n",
              "      border-top-color: var(--fill-color);\n",
              "    }\n",
              "    30% {\n",
              "      border-color: transparent;\n",
              "      border-left-color: var(--fill-color);\n",
              "      border-top-color: var(--fill-color);\n",
              "      border-right-color: var(--fill-color);\n",
              "    }\n",
              "    40% {\n",
              "      border-color: transparent;\n",
              "      border-right-color: var(--fill-color);\n",
              "      border-top-color: var(--fill-color);\n",
              "    }\n",
              "    60% {\n",
              "      border-color: transparent;\n",
              "      border-right-color: var(--fill-color);\n",
              "    }\n",
              "    80% {\n",
              "      border-color: transparent;\n",
              "      border-right-color: var(--fill-color);\n",
              "      border-bottom-color: var(--fill-color);\n",
              "    }\n",
              "    90% {\n",
              "      border-color: transparent;\n",
              "      border-bottom-color: var(--fill-color);\n",
              "    }\n",
              "  }\n",
              "</style>\n",
              "\n",
              "  <script>\n",
              "    async function quickchart(key) {\n",
              "      const quickchartButtonEl =\n",
              "        document.querySelector('#' + key + ' button');\n",
              "      quickchartButtonEl.disabled = true;  // To prevent multiple clicks.\n",
              "      quickchartButtonEl.classList.add('colab-df-spinner');\n",
              "      try {\n",
              "        const charts = await google.colab.kernel.invokeFunction(\n",
              "            'suggestCharts', [key], {});\n",
              "      } catch (error) {\n",
              "        console.error('Error during call to suggestCharts:', error);\n",
              "      }\n",
              "      quickchartButtonEl.classList.remove('colab-df-spinner');\n",
              "      quickchartButtonEl.classList.add('colab-df-quickchart-complete');\n",
              "    }\n",
              "    (() => {\n",
              "      let quickchartButtonEl =\n",
              "        document.querySelector('#df-4a4a7bf9-a1da-4b0f-9a86-a7e7ec8a17bb button');\n",
              "      quickchartButtonEl.style.display =\n",
              "        google.colab.kernel.accessAllowed ? 'block' : 'none';\n",
              "    })();\n",
              "  </script>\n",
              "</div>\n",
              "    </div>\n",
              "  </div>\n"
            ]
          },
          "metadata": {},
          "execution_count": 15
        }
      ],
      "source": [
        "tma['tanggal'] = pd.to_datetime(tma['tanggal'])\n",
        "tma.head()\n"
      ]
    },
    {
      "cell_type": "code",
      "execution_count": null,
      "metadata": {
        "colab": {
          "base_uri": "https://localhost:8080/"
        },
        "id": "AaOPRPlTRrxf",
        "outputId": "581348b7-563d-4d32-94ed-683ef9f19e07"
      },
      "outputs": [
        {
          "output_type": "stream",
          "name": "stdout",
          "text": [
            "2022-08-01 00:00:00 2023-03-28 00:00:00\n"
          ]
        }
      ],
      "source": [
        "print(tma.tanggal.min(), tma.tanggal.max())"
      ]
    },
    {
      "cell_type": "code",
      "execution_count": null,
      "metadata": {
        "id": "m-1saRArz4-m"
      },
      "outputs": [],
      "source": [
        "# Data untukk training\n",
        "tma_train = tma.loc[(tma['tanggal'] >= '2022-08-01 00:00:00')]\n",
        "tma_train = tma_train.loc[(tma_train['tanggal'] <= '2022-12-31 23:59:00')]\n",
        "tma_train = tma_train.loc[(tma_train.tanggal.dt.minute == 0)]\n"
      ]
    },
    {
      "cell_type": "code",
      "execution_count": null,
      "metadata": {
        "id": "gypGNM5YysIR"
      },
      "outputs": [],
      "source": [
        "print(tma_train)"
      ]
    },
    {
      "cell_type": "code",
      "execution_count": null,
      "metadata": {
        "colab": {
          "base_uri": "https://localhost:8080/",
          "height": 53
        },
        "id": "6Sy6syKG90mp",
        "outputId": "93cfd126-48f9-43ca-a44b-47625653716d"
      },
      "outputs": [
        {
          "output_type": "execute_result",
          "data": {
            "text/plain": [
              "Empty DataFrame\n",
              "Columns: [tanggal, Katulampa, Depok, Manggarai, KBR2, KBR4]\n",
              "Index: []"
            ],
            "text/html": [
              "\n",
              "  <div id=\"df-c8c3ce57-43ee-4371-8b40-830465bf3193\" class=\"colab-df-container\">\n",
              "    <div>\n",
              "<style scoped>\n",
              "    .dataframe tbody tr th:only-of-type {\n",
              "        vertical-align: middle;\n",
              "    }\n",
              "\n",
              "    .dataframe tbody tr th {\n",
              "        vertical-align: top;\n",
              "    }\n",
              "\n",
              "    .dataframe thead th {\n",
              "        text-align: right;\n",
              "    }\n",
              "</style>\n",
              "<table border=\"1\" class=\"dataframe\">\n",
              "  <thead>\n",
              "    <tr style=\"text-align: right;\">\n",
              "      <th></th>\n",
              "      <th>tanggal</th>\n",
              "      <th>Katulampa</th>\n",
              "      <th>Depok</th>\n",
              "      <th>Manggarai</th>\n",
              "      <th>KBR2</th>\n",
              "      <th>KBR4</th>\n",
              "    </tr>\n",
              "  </thead>\n",
              "  <tbody>\n",
              "  </tbody>\n",
              "</table>\n",
              "</div>\n",
              "    <div class=\"colab-df-buttons\">\n",
              "\n",
              "  <div class=\"colab-df-container\">\n",
              "    <button class=\"colab-df-convert\" onclick=\"convertToInteractive('df-c8c3ce57-43ee-4371-8b40-830465bf3193')\"\n",
              "            title=\"Convert this dataframe to an interactive table.\"\n",
              "            style=\"display:none;\">\n",
              "\n",
              "  <svg xmlns=\"http://www.w3.org/2000/svg\" height=\"24px\" viewBox=\"0 -960 960 960\">\n",
              "    <path d=\"M120-120v-720h720v720H120Zm60-500h600v-160H180v160Zm220 220h160v-160H400v160Zm0 220h160v-160H400v160ZM180-400h160v-160H180v160Zm440 0h160v-160H620v160ZM180-180h160v-160H180v160Zm440 0h160v-160H620v160Z\"/>\n",
              "  </svg>\n",
              "    </button>\n",
              "\n",
              "  <style>\n",
              "    .colab-df-container {\n",
              "      display:flex;\n",
              "      gap: 12px;\n",
              "    }\n",
              "\n",
              "    .colab-df-convert {\n",
              "      background-color: #E8F0FE;\n",
              "      border: none;\n",
              "      border-radius: 50%;\n",
              "      cursor: pointer;\n",
              "      display: none;\n",
              "      fill: #1967D2;\n",
              "      height: 32px;\n",
              "      padding: 0 0 0 0;\n",
              "      width: 32px;\n",
              "    }\n",
              "\n",
              "    .colab-df-convert:hover {\n",
              "      background-color: #E2EBFA;\n",
              "      box-shadow: 0px 1px 2px rgba(60, 64, 67, 0.3), 0px 1px 3px 1px rgba(60, 64, 67, 0.15);\n",
              "      fill: #174EA6;\n",
              "    }\n",
              "\n",
              "    .colab-df-buttons div {\n",
              "      margin-bottom: 4px;\n",
              "    }\n",
              "\n",
              "    [theme=dark] .colab-df-convert {\n",
              "      background-color: #3B4455;\n",
              "      fill: #D2E3FC;\n",
              "    }\n",
              "\n",
              "    [theme=dark] .colab-df-convert:hover {\n",
              "      background-color: #434B5C;\n",
              "      box-shadow: 0px 1px 3px 1px rgba(0, 0, 0, 0.15);\n",
              "      filter: drop-shadow(0px 1px 2px rgba(0, 0, 0, 0.3));\n",
              "      fill: #FFFFFF;\n",
              "    }\n",
              "  </style>\n",
              "\n",
              "    <script>\n",
              "      const buttonEl =\n",
              "        document.querySelector('#df-c8c3ce57-43ee-4371-8b40-830465bf3193 button.colab-df-convert');\n",
              "      buttonEl.style.display =\n",
              "        google.colab.kernel.accessAllowed ? 'block' : 'none';\n",
              "\n",
              "      async function convertToInteractive(key) {\n",
              "        const element = document.querySelector('#df-c8c3ce57-43ee-4371-8b40-830465bf3193');\n",
              "        const dataTable =\n",
              "          await google.colab.kernel.invokeFunction('convertToInteractive',\n",
              "                                                    [key], {});\n",
              "        if (!dataTable) return;\n",
              "\n",
              "        const docLinkHtml = 'Like what you see? Visit the ' +\n",
              "          '<a target=\"_blank\" href=https://colab.research.google.com/notebooks/data_table.ipynb>data table notebook</a>'\n",
              "          + ' to learn more about interactive tables.';\n",
              "        element.innerHTML = '';\n",
              "        dataTable['output_type'] = 'display_data';\n",
              "        await google.colab.output.renderOutput(dataTable, element);\n",
              "        const docLink = document.createElement('div');\n",
              "        docLink.innerHTML = docLinkHtml;\n",
              "        element.appendChild(docLink);\n",
              "      }\n",
              "    </script>\n",
              "  </div>\n",
              "\n",
              "    </div>\n",
              "  </div>\n"
            ]
          },
          "metadata": {},
          "execution_count": 18
        }
      ],
      "source": [
        "tma_train[tma_train['Katulampa'].isna()]"
      ]
    },
    {
      "cell_type": "code",
      "execution_count": null,
      "metadata": {
        "colab": {
          "base_uri": "https://localhost:8080/"
        },
        "id": "3RIN7fpYyk_D",
        "outputId": "21428f07-e069-4bc5-ea90-d1100dab2eff"
      },
      "outputs": [
        {
          "output_type": "stream",
          "name": "stdout",
          "text": [
            "                 tanggal  Katulampa  Depok  Manggarai        KBR2         KBR4\n",
            "3672 2023-01-01 00:00:00       29.0  118.0      669.0  860.681681  1006.353364\n",
            "3673 2023-01-01 01:00:00       35.0  133.0      700.0  866.996937  1006.397310\n",
            "3674 2023-01-01 02:00:00       35.0  131.0      704.0  870.767050  1006.895161\n",
            "3675 2023-01-01 03:00:00       36.0  128.0      705.0  873.458741  1006.746029\n",
            "3676 2023-01-01 04:00:00       32.0  127.0      707.0  876.001144  1006.904927\n",
            "...                  ...        ...    ...        ...         ...          ...\n",
            "5732 2023-03-27 20:00:00       21.0   91.0      684.0  932.351394  1130.277781\n",
            "5733 2023-03-27 21:00:00       21.0  105.0      671.0  928.778138  1130.277781\n",
            "5734 2023-03-27 22:00:00       21.0  105.0      674.0  923.716009  1130.443189\n",
            "5735 2023-03-27 23:00:00       20.0  103.0      668.0  919.206459  1130.453565\n",
            "5736 2023-03-28 00:00:00       19.0  102.0      664.0  916.223625  1130.453972\n",
            "\n",
            "[2065 rows x 6 columns]\n"
          ]
        }
      ],
      "source": [
        "tma_test = tma.loc[(tma['tanggal'] > '2022-12-31 23:59:00')]\n",
        "tma_test = tma_test.loc[(tma_test.tanggal.dt.minute == 0)]\n",
        "print(tma_test)"
      ]
    },
    {
      "cell_type": "code",
      "execution_count": null,
      "metadata": {
        "colab": {
          "base_uri": "https://localhost:8080/",
          "height": 75
        },
        "id": "QwMYlOVrzZhH",
        "outputId": "206fea2b-2255-4f14-a2c9-929a06a84db0"
      },
      "outputs": [
        {
          "output_type": "execute_result",
          "data": {
            "text/plain": [
              "MinMaxScaler()"
            ],
            "text/html": [
              "<style>#sk-container-id-1 {color: black;background-color: white;}#sk-container-id-1 pre{padding: 0;}#sk-container-id-1 div.sk-toggleable {background-color: white;}#sk-container-id-1 label.sk-toggleable__label {cursor: pointer;display: block;width: 100%;margin-bottom: 0;padding: 0.3em;box-sizing: border-box;text-align: center;}#sk-container-id-1 label.sk-toggleable__label-arrow:before {content: \"▸\";float: left;margin-right: 0.25em;color: #696969;}#sk-container-id-1 label.sk-toggleable__label-arrow:hover:before {color: black;}#sk-container-id-1 div.sk-estimator:hover label.sk-toggleable__label-arrow:before {color: black;}#sk-container-id-1 div.sk-toggleable__content {max-height: 0;max-width: 0;overflow: hidden;text-align: left;background-color: #f0f8ff;}#sk-container-id-1 div.sk-toggleable__content pre {margin: 0.2em;color: black;border-radius: 0.25em;background-color: #f0f8ff;}#sk-container-id-1 input.sk-toggleable__control:checked~div.sk-toggleable__content {max-height: 200px;max-width: 100%;overflow: auto;}#sk-container-id-1 input.sk-toggleable__control:checked~label.sk-toggleable__label-arrow:before {content: \"▾\";}#sk-container-id-1 div.sk-estimator input.sk-toggleable__control:checked~label.sk-toggleable__label {background-color: #d4ebff;}#sk-container-id-1 div.sk-label input.sk-toggleable__control:checked~label.sk-toggleable__label {background-color: #d4ebff;}#sk-container-id-1 input.sk-hidden--visually {border: 0;clip: rect(1px 1px 1px 1px);clip: rect(1px, 1px, 1px, 1px);height: 1px;margin: -1px;overflow: hidden;padding: 0;position: absolute;width: 1px;}#sk-container-id-1 div.sk-estimator {font-family: monospace;background-color: #f0f8ff;border: 1px dotted black;border-radius: 0.25em;box-sizing: border-box;margin-bottom: 0.5em;}#sk-container-id-1 div.sk-estimator:hover {background-color: #d4ebff;}#sk-container-id-1 div.sk-parallel-item::after {content: \"\";width: 100%;border-bottom: 1px solid gray;flex-grow: 1;}#sk-container-id-1 div.sk-label:hover label.sk-toggleable__label {background-color: #d4ebff;}#sk-container-id-1 div.sk-serial::before {content: \"\";position: absolute;border-left: 1px solid gray;box-sizing: border-box;top: 0;bottom: 0;left: 50%;z-index: 0;}#sk-container-id-1 div.sk-serial {display: flex;flex-direction: column;align-items: center;background-color: white;padding-right: 0.2em;padding-left: 0.2em;position: relative;}#sk-container-id-1 div.sk-item {position: relative;z-index: 1;}#sk-container-id-1 div.sk-parallel {display: flex;align-items: stretch;justify-content: center;background-color: white;position: relative;}#sk-container-id-1 div.sk-item::before, #sk-container-id-1 div.sk-parallel-item::before {content: \"\";position: absolute;border-left: 1px solid gray;box-sizing: border-box;top: 0;bottom: 0;left: 50%;z-index: -1;}#sk-container-id-1 div.sk-parallel-item {display: flex;flex-direction: column;z-index: 1;position: relative;background-color: white;}#sk-container-id-1 div.sk-parallel-item:first-child::after {align-self: flex-end;width: 50%;}#sk-container-id-1 div.sk-parallel-item:last-child::after {align-self: flex-start;width: 50%;}#sk-container-id-1 div.sk-parallel-item:only-child::after {width: 0;}#sk-container-id-1 div.sk-dashed-wrapped {border: 1px dashed gray;margin: 0 0.4em 0.5em 0.4em;box-sizing: border-box;padding-bottom: 0.4em;background-color: white;}#sk-container-id-1 div.sk-label label {font-family: monospace;font-weight: bold;display: inline-block;line-height: 1.2em;}#sk-container-id-1 div.sk-label-container {text-align: center;}#sk-container-id-1 div.sk-container {/* jupyter's `normalize.less` sets `[hidden] { display: none; }` but bootstrap.min.css set `[hidden] { display: none !important; }` so we also need the `!important` here to be able to override the default hidden behavior on the sphinx rendered scikit-learn.org. See: https://github.com/scikit-learn/scikit-learn/issues/21755 */display: inline-block !important;position: relative;}#sk-container-id-1 div.sk-text-repr-fallback {display: none;}</style><div id=\"sk-container-id-1\" class=\"sk-top-container\"><div class=\"sk-text-repr-fallback\"><pre>MinMaxScaler()</pre><b>In a Jupyter environment, please rerun this cell to show the HTML representation or trust the notebook. <br />On GitHub, the HTML representation is unable to render, please try loading this page with nbviewer.org.</b></div><div class=\"sk-container\" hidden><div class=\"sk-item\"><div class=\"sk-estimator sk-toggleable\"><input class=\"sk-toggleable__control sk-hidden--visually\" id=\"sk-estimator-id-1\" type=\"checkbox\" checked><label for=\"sk-estimator-id-1\" class=\"sk-toggleable__label sk-toggleable__label-arrow\">MinMaxScaler</label><div class=\"sk-toggleable__content\"><pre>MinMaxScaler()</pre></div></div></div></div></div>"
            ]
          },
          "metadata": {},
          "execution_count": 20
        }
      ],
      "source": [
        "scaler = MinMaxScaler()\n",
        "scaler.fit(tma_train[['Katulampa', 'Depok', 'KBR2', 'KBR4', 'Manggarai']])"
      ]
    },
    {
      "cell_type": "code",
      "execution_count": null,
      "metadata": {
        "colab": {
          "base_uri": "https://localhost:8080/"
        },
        "id": "a2SMu9Fb05MP",
        "outputId": "b90702b2-5cbc-49fb-da34-7c1123818243"
      },
      "outputs": [
        {
          "output_type": "execute_result",
          "data": {
            "text/plain": [
              "array([[0.12318841, 0.21755725, 0.27204854, 0.9390033 , 0.03773585],\n",
              "       [0.12318841, 0.21755725, 0.27053269, 0.93869339, 0.03396226],\n",
              "       [0.12318841, 0.21374046, 0.27396842, 0.9384386 , 0.03396226],\n",
              "       ...,\n",
              "       [0.18115942, 0.35877863, 0.06546755, 0.03865078, 0.29811321],\n",
              "       [0.1884058 , 0.36641221, 0.09315871, 0.03417966, 0.32075472],\n",
              "       [0.19565217, 0.37022901, 0.11801703, 0.04653729, 0.33962264]])"
            ]
          },
          "metadata": {},
          "execution_count": 21
        }
      ],
      "source": [
        "tma_scaled = scaler.transform(tma_train[['Katulampa', 'Depok', 'KBR2', 'KBR4', 'Manggarai']])\n",
        "tma_scaled"
      ]
    },
    {
      "cell_type": "code",
      "execution_count": null,
      "metadata": {
        "colab": {
          "base_uri": "https://localhost:8080/"
        },
        "id": "18nQjvUu2e_c",
        "outputId": "155c0e63-12b2-4119-f7da-00d452210430"
      },
      "outputs": [
        {
          "output_type": "execute_result",
          "data": {
            "text/plain": [
              "array([0.12318841, 0.12318841, 0.12318841, ..., 0.18115942, 0.1884058 ,\n",
              "       0.19565217])"
            ]
          },
          "metadata": {},
          "execution_count": 22
        }
      ],
      "source": [
        "tma_scaled[:, 0]"
      ]
    },
    {
      "cell_type": "code",
      "execution_count": null,
      "metadata": {
        "colab": {
          "base_uri": "https://localhost:8080/"
        },
        "id": "uYk3J_J23OBe",
        "outputId": "698a73b3-ecc7-4290-8cff-fa21016a1da9"
      },
      "outputs": [
        {
          "output_type": "execute_result",
          "data": {
            "text/plain": [
              "array([[  18.        ,   77.        ,  913.12807843, 1132.8613519 ,\n",
              "         585.        ],\n",
              "       [  18.        ,   77.        ,  912.5311455 , 1132.81739574,\n",
              "         584.        ],\n",
              "       [  18.        ,   76.        ,  913.8841121 , 1132.78125729,\n",
              "         584.        ],\n",
              "       ...,\n",
              "       [  26.        ,  114.        ,  831.77789914, 1005.15929447,\n",
              "         654.        ],\n",
              "       [  27.        ,  116.        ,  842.68248956, 1004.52512952,\n",
              "         660.        ],\n",
              "       [  28.        ,  117.        ,  852.47152341, 1006.27788251,\n",
              "         665.        ]])"
            ]
          },
          "metadata": {},
          "execution_count": 23
        }
      ],
      "source": [
        "scaler.inverse_transform(tma_scaled)"
      ]
    },
    {
      "cell_type": "code",
      "execution_count": null,
      "metadata": {
        "id": "A2tsaZZv3i8w"
      },
      "outputs": [],
      "source": [
        "tma_train.head()"
      ]
    },
    {
      "cell_type": "code",
      "execution_count": null,
      "metadata": {
        "id": "io-vD35j_CR7"
      },
      "outputs": [],
      "source": [
        "# split a multivariate sequence into samples\n",
        "def split_sequences(sequences, n_steps_in, n_steps_out):\n",
        "\tX, y = list(), list()\n",
        "\tfor i in range(len(sequences)):\n",
        "\t\t# find the end of this pattern\n",
        "\t\tend_ix = i + n_steps_in\n",
        "\t\tout_end_ix = end_ix + n_steps_out\n",
        "\t\t# check if we are beyond the dataset\n",
        "\t\tif out_end_ix > len(sequences):\n",
        "\t\t\tbreak\n",
        "\t\t# gather input and output parts of the pattern\n",
        "\t\tseq_x, seq_y = sequences[i:end_ix, :], sequences[end_ix:out_end_ix, :]\n",
        "\t\tX.append(seq_x)\n",
        "\t\ty.append(seq_y)\n",
        "\treturn array(X), array(y)"
      ]
    },
    {
      "cell_type": "code",
      "execution_count": null,
      "metadata": {
        "id": "fXYJBflWDQOy"
      },
      "outputs": [],
      "source": [
        "# # define input sequence\n",
        "# in_katulampa = array(tma_train['Katulampa'])\n",
        "# in_depok = array(tma_train['Depok'])\n",
        "# in_kbr2 = array(tma_train['KBR2'])\n",
        "# in_kbr4 = array(tma_train['KBR4'])\n",
        "# in_bdr5 = array(tma_train['BDR5'])\n",
        "# out_manggarai = array(tma_train['Manggarai'])\n",
        "\n",
        "in_katulampa = array(tma_scaled[:, 0])\n",
        "in_depok = array(tma_scaled[:, 1])\n",
        "in_kbr2 = array(tma_scaled[:, 2])\n",
        "in_kbr4 = array(tma_scaled[:, 3])\n",
        "# in_bdr5 = array(tma_scaled[:, 4])\n",
        "out_manggarai = array(tma_scaled[:, 4])\n",
        "\n",
        "# convert to [rows, columns] structure\n",
        "in_katulampa = in_katulampa.reshape((len(in_katulampa), 1))\n",
        "in_depok = in_depok.reshape((len(in_depok), 1))\n",
        "in_kbr2 = in_kbr2.reshape((len(in_kbr2), 1))\n",
        "in_kbr4 = in_kbr4.reshape((len(in_kbr4), 1))\n",
        "# in_bdr5 = in_bdr5.reshape((len(in_bdr5), 1))\n",
        "out_manggarai = out_manggarai.reshape((len(out_manggarai), 1))\n",
        "\n",
        "# horizontally stack columns\n",
        "# dataset = hstack((in_katulampa, in_depok, in_kbr2, in_kbr4, in_bdr5, out_manggarai))\n",
        "dataset = hstack((in_katulampa, in_depok, in_kbr2, in_kbr4, out_manggarai))\n"
      ]
    },
    {
      "cell_type": "code",
      "execution_count": null,
      "metadata": {
        "colab": {
          "base_uri": "https://localhost:8080/"
        },
        "id": "F3k0eWAyOAFv",
        "outputId": "e662713e-7f87-4eb1-e0c5-0301eb729d65"
      },
      "outputs": [
        {
          "output_type": "stream",
          "name": "stdout",
          "text": [
            "(3619, 48, 5)\n"
          ]
        }
      ],
      "source": [
        "# choose a number of time steps\n",
        "n_hari = 2\n",
        "n_jam = 24\n",
        "n_steps_in = n_hari*n_jam\n",
        "n_steps_out = 6\n",
        "\n",
        "# convert into input/output\n",
        "X_train, y_train = split_sequences(dataset, n_steps_in, n_steps_out)\n",
        "\n",
        "# the dataset knows the number of features, e.g. 2\n",
        "n_features = X_train.shape[2]\n",
        "print(X_train.shape)"
      ]
    },
    {
      "cell_type": "code",
      "execution_count": null,
      "metadata": {
        "id": "4iSVz2hG7w4G"
      },
      "outputs": [],
      "source": [
        "from sklearn.model_selection import TimeSeriesSplit\n",
        "\n",
        "test_scaled = scaler.transform(tma_test[['Katulampa', 'Depok', 'KBR2', 'KBR4', 'Manggarai']])\n",
        "\n",
        "array_katulampa = array(test_scaled[:, 0])\n",
        "array_depok = array(test_scaled[:, 1])\n",
        "array_kbr2 = array(test_scaled[:, 2])\n",
        "array_kbr4 = array(test_scaled[:, 3])\n",
        "# array_bdr5 = array(test_scaled[:, 4])\n",
        "array_manggarai = array(test_scaled[:, 4])\n",
        "\n",
        "# convert to [rows, columns] structure\n",
        "array_katulampa = array_katulampa.reshape((len(array_katulampa), 1))\n",
        "array_depok = array_depok.reshape((len(array_depok), 1))\n",
        "array_kbr2 = array_kbr2.reshape((len(array_kbr2), 1))\n",
        "array_kbr4 = array_kbr4.reshape((len(array_kbr4), 1))\n",
        "# array_bdr5 = array_bdr5.reshape((len(array_bdr5), 1))\n",
        "array_manggarai = array_manggarai.reshape((len(array_manggarai), 1))\n",
        "\n",
        "# test_input = hstack((array_katulampa, array_depok, array_kbr2, array_kbr4, array_bdr5, array_manggarai))\n",
        "test_input = hstack((array_katulampa, array_depok, array_kbr2, array_kbr4, array_manggarai))\n",
        "X_test, y_test = split_sequences(test_input, n_steps_in, n_steps_out)\n",
        "# print(x_input)\n"
      ]
    },
    {
      "cell_type": "code",
      "execution_count": null,
      "metadata": {
        "colab": {
          "base_uri": "https://localhost:8080/"
        },
        "id": "XntQdUF2GD8A",
        "outputId": "096a2529-93f1-49d6-94a0-ec1331f1771f"
      },
      "outputs": [
        {
          "output_type": "stream",
          "name": "stdout",
          "text": [
            "Epoch 1/100\n",
            "19/19 [==============================] - 12s 454ms/step - loss: 0.1366 - val_loss: 0.0443\n",
            "Epoch 2/100\n",
            "19/19 [==============================] - 7s 339ms/step - loss: 0.0500 - val_loss: 0.0394\n",
            "Epoch 3/100\n",
            "19/19 [==============================] - 7s 379ms/step - loss: 0.0311 - val_loss: 0.0426\n",
            "Epoch 4/100\n",
            "19/19 [==============================] - 8s 390ms/step - loss: 0.0187 - val_loss: 0.0450\n",
            "Epoch 5/100\n",
            "19/19 [==============================] - 7s 351ms/step - loss: 0.0130 - val_loss: 0.0458\n",
            "Epoch 6/100\n",
            "19/19 [==============================] - 8s 423ms/step - loss: 0.0107 - val_loss: 0.0459\n",
            "Epoch 7/100\n",
            "19/19 [==============================] - 6s 322ms/step - loss: 0.0094 - val_loss: 0.0452\n",
            "Epoch 8/100\n",
            "19/19 [==============================] - 9s 461ms/step - loss: 0.0087 - val_loss: 0.0465\n",
            "Epoch 9/100\n",
            "19/19 [==============================] - 6s 320ms/step - loss: 0.0079 - val_loss: 0.0482\n",
            "Epoch 10/100\n",
            "19/19 [==============================] - 9s 458ms/step - loss: 0.0076 - val_loss: 0.0494\n",
            "Epoch 11/100\n",
            "19/19 [==============================] - 6s 322ms/step - loss: 0.0073 - val_loss: 0.0508\n",
            "Epoch 12/100\n",
            "19/19 [==============================] - 8s 434ms/step - loss: 0.0067 - val_loss: 0.0529\n",
            "Epoch 13/100\n",
            "19/19 [==============================] - 7s 344ms/step - loss: 0.0066 - val_loss: 0.0534\n",
            "Epoch 14/100\n",
            "19/19 [==============================] - 7s 391ms/step - loss: 0.0062 - val_loss: 0.0541\n",
            "Epoch 15/100\n",
            "19/19 [==============================] - 7s 389ms/step - loss: 0.0063 - val_loss: 0.0539\n",
            "Epoch 16/100\n",
            "19/19 [==============================] - 6s 327ms/step - loss: 0.0064 - val_loss: 0.0540\n",
            "Epoch 17/100\n",
            "19/19 [==============================] - 8s 441ms/step - loss: 0.0061 - val_loss: 0.0543\n",
            "Epoch 18/100\n",
            "19/19 [==============================] - 6s 323ms/step - loss: 0.0059 - val_loss: 0.0537\n",
            "Epoch 19/100\n",
            "19/19 [==============================] - 9s 496ms/step - loss: 0.0060 - val_loss: 0.0542\n",
            "Epoch 20/100\n",
            "19/19 [==============================] - 6s 328ms/step - loss: 0.0059 - val_loss: 0.0539\n",
            "Epoch 21/100\n",
            "19/19 [==============================] - 9s 461ms/step - loss: 0.0058 - val_loss: 0.0551\n",
            "Epoch 22/100\n",
            "19/19 [==============================] - 6s 322ms/step - loss: 0.0057 - val_loss: 0.0536\n",
            "Epoch 23/100\n",
            "19/19 [==============================] - 8s 434ms/step - loss: 0.0056 - val_loss: 0.0526\n",
            "Epoch 24/100\n",
            "19/19 [==============================] - 6s 332ms/step - loss: 0.0055 - val_loss: 0.0528\n",
            "Epoch 25/100\n",
            "19/19 [==============================] - 7s 389ms/step - loss: 0.0057 - val_loss: 0.0535\n",
            "Epoch 26/100\n",
            "19/19 [==============================] - 7s 381ms/step - loss: 0.0059 - val_loss: 0.0511\n",
            "Epoch 27/100\n",
            "19/19 [==============================] - 6s 330ms/step - loss: 0.0054 - val_loss: 0.0525\n",
            "Epoch 28/100\n",
            "19/19 [==============================] - 8s 440ms/step - loss: 0.0051 - val_loss: 0.0533\n",
            "Epoch 29/100\n",
            "19/19 [==============================] - 6s 323ms/step - loss: 0.0051 - val_loss: 0.0532\n",
            "Epoch 30/100\n",
            "19/19 [==============================] - 9s 497ms/step - loss: 0.0049 - val_loss: 0.0521\n",
            "Epoch 31/100\n",
            "19/19 [==============================] - 7s 357ms/step - loss: 0.0048 - val_loss: 0.0527\n",
            "Epoch 32/100\n",
            "19/19 [==============================] - 9s 461ms/step - loss: 0.0048 - val_loss: 0.0517\n",
            "Epoch 33/100\n",
            "19/19 [==============================] - 6s 319ms/step - loss: 0.0047 - val_loss: 0.0531\n",
            "Epoch 34/100\n",
            "19/19 [==============================] - 8s 443ms/step - loss: 0.0045 - val_loss: 0.0530\n",
            "Epoch 35/100\n",
            "19/19 [==============================] - 6s 326ms/step - loss: 0.0046 - val_loss: 0.0522\n",
            "Epoch 36/100\n",
            "19/19 [==============================] - 8s 403ms/step - loss: 0.0045 - val_loss: 0.0521\n",
            "Epoch 37/100\n",
            "19/19 [==============================] - 7s 354ms/step - loss: 0.0045 - val_loss: 0.0516\n",
            "Epoch 38/100\n",
            "19/19 [==============================] - 6s 343ms/step - loss: 0.0043 - val_loss: 0.0521\n",
            "Epoch 39/100\n",
            "19/19 [==============================] - 8s 417ms/step - loss: 0.0045 - val_loss: 0.0503\n",
            "Epoch 40/100\n",
            "19/19 [==============================] - 6s 326ms/step - loss: 0.0043 - val_loss: 0.0498\n",
            "Epoch 41/100\n",
            "19/19 [==============================] - 8s 451ms/step - loss: 0.0047 - val_loss: 0.0489\n",
            "Epoch 42/100\n",
            "19/19 [==============================] - 6s 319ms/step - loss: 0.0046 - val_loss: 0.0485\n",
            "Epoch 43/100\n",
            "19/19 [==============================] - 9s 462ms/step - loss: 0.0042 - val_loss: 0.0490\n",
            "Epoch 44/100\n",
            "19/19 [==============================] - 6s 325ms/step - loss: 0.0040 - val_loss: 0.0485\n",
            "Epoch 45/100\n",
            "19/19 [==============================] - 8s 453ms/step - loss: 0.0041 - val_loss: 0.0486\n",
            "Epoch 46/100\n",
            "19/19 [==============================] - 6s 331ms/step - loss: 0.0043 - val_loss: 0.0485\n",
            "Epoch 47/100\n",
            "19/19 [==============================] - 7s 394ms/step - loss: 0.0040 - val_loss: 0.0493\n",
            "Epoch 48/100\n",
            "19/19 [==============================] - 7s 378ms/step - loss: 0.0039 - val_loss: 0.0480\n",
            "Epoch 49/100\n",
            "19/19 [==============================] - 6s 341ms/step - loss: 0.0039 - val_loss: 0.0483\n",
            "Epoch 50/100\n",
            "19/19 [==============================] - 8s 434ms/step - loss: 0.0041 - val_loss: 0.0479\n",
            "Epoch 51/100\n",
            "19/19 [==============================] - 6s 320ms/step - loss: 0.0039 - val_loss: 0.0479\n",
            "Epoch 52/100\n",
            "19/19 [==============================] - 9s 484ms/step - loss: 0.0039 - val_loss: 0.0481\n",
            "Epoch 53/100\n",
            "19/19 [==============================] - 6s 320ms/step - loss: 0.0038 - val_loss: 0.0482\n",
            "Epoch 54/100\n",
            "19/19 [==============================] - 8s 450ms/step - loss: 0.0038 - val_loss: 0.0471\n",
            "Epoch 55/100\n",
            "19/19 [==============================] - 6s 316ms/step - loss: 0.0038 - val_loss: 0.0474\n",
            "Epoch 56/100\n",
            "19/19 [==============================] - 8s 412ms/step - loss: 0.0037 - val_loss: 0.0482\n",
            "Epoch 57/100\n",
            "19/19 [==============================] - 7s 345ms/step - loss: 0.0037 - val_loss: 0.0481\n",
            "Epoch 58/100\n",
            "19/19 [==============================] - 7s 368ms/step - loss: 0.0037 - val_loss: 0.0491\n",
            "Epoch 59/100\n",
            "19/19 [==============================] - 8s 406ms/step - loss: 0.0039 - val_loss: 0.0477\n",
            "Epoch 60/100\n",
            "19/19 [==============================] - 6s 324ms/step - loss: 0.0038 - val_loss: 0.0470\n",
            "Epoch 61/100\n",
            "19/19 [==============================] - 9s 453ms/step - loss: 0.0037 - val_loss: 0.0476\n",
            "Epoch 62/100\n",
            "19/19 [==============================] - 6s 326ms/step - loss: 0.0037 - val_loss: 0.0474\n",
            "Epoch 63/100\n",
            "19/19 [==============================] - 9s 492ms/step - loss: 0.0039 - val_loss: 0.0470\n",
            "Epoch 64/100\n",
            "19/19 [==============================] - 6s 324ms/step - loss: 0.0038 - val_loss: 0.0475\n",
            "Epoch 65/100\n",
            "19/19 [==============================] - 9s 461ms/step - loss: 0.0035 - val_loss: 0.0456\n",
            "Epoch 66/100\n",
            "19/19 [==============================] - 6s 318ms/step - loss: 0.0036 - val_loss: 0.0475\n",
            "Epoch 67/100\n",
            "19/19 [==============================] - 8s 420ms/step - loss: 0.0034 - val_loss: 0.0465\n",
            "Epoch 68/100\n",
            "19/19 [==============================] - 7s 339ms/step - loss: 0.0035 - val_loss: 0.0464\n",
            "Epoch 69/100\n",
            "19/19 [==============================] - 7s 364ms/step - loss: 0.0035 - val_loss: 0.0478\n",
            "Epoch 70/100\n",
            "19/19 [==============================] - 8s 397ms/step - loss: 0.0034 - val_loss: 0.0468\n",
            "Epoch 71/100\n",
            "19/19 [==============================] - 6s 318ms/step - loss: 0.0034 - val_loss: 0.0467\n",
            "Epoch 72/100\n",
            "19/19 [==============================] - 9s 459ms/step - loss: 0.0034 - val_loss: 0.0479\n",
            "Epoch 73/100\n",
            "19/19 [==============================] - 6s 321ms/step - loss: 0.0034 - val_loss: 0.0455\n",
            "Epoch 74/100\n",
            "19/19 [==============================] - 8s 450ms/step - loss: 0.0033 - val_loss: 0.0465\n",
            "Epoch 75/100\n",
            "19/19 [==============================] - 6s 318ms/step - loss: 0.0033 - val_loss: 0.0459\n",
            "Epoch 76/100\n",
            "19/19 [==============================] - 8s 433ms/step - loss: 0.0035 - val_loss: 0.0456\n",
            "Epoch 77/100\n",
            "19/19 [==============================] - 6s 328ms/step - loss: 0.0033 - val_loss: 0.0453\n",
            "Epoch 78/100\n",
            "19/19 [==============================] - 7s 368ms/step - loss: 0.0032 - val_loss: 0.0475\n",
            "Epoch 79/100\n",
            "19/19 [==============================] - 7s 389ms/step - loss: 0.0034 - val_loss: 0.0458\n",
            "Epoch 80/100\n",
            "19/19 [==============================] - 7s 355ms/step - loss: 0.0033 - val_loss: 0.0474\n",
            "Epoch 81/100\n",
            "19/19 [==============================] - 8s 422ms/step - loss: 0.0033 - val_loss: 0.0483\n",
            "Epoch 82/100\n",
            "19/19 [==============================] - 6s 326ms/step - loss: 0.0032 - val_loss: 0.0469\n",
            "Epoch 83/100\n",
            "19/19 [==============================] - 9s 460ms/step - loss: 0.0032 - val_loss: 0.0473\n",
            "Epoch 84/100\n",
            "19/19 [==============================] - 6s 326ms/step - loss: 0.0033 - val_loss: 0.0470\n",
            "Epoch 85/100\n",
            "19/19 [==============================] - 9s 459ms/step - loss: 0.0032 - val_loss: 0.0467\n",
            "Epoch 86/100\n",
            "19/19 [==============================] - 6s 324ms/step - loss: 0.0032 - val_loss: 0.0471\n",
            "Epoch 87/100\n",
            "19/19 [==============================] - 8s 434ms/step - loss: 0.0034 - val_loss: 0.0457\n",
            "Epoch 88/100\n",
            "19/19 [==============================] - 7s 339ms/step - loss: 0.0031 - val_loss: 0.0469\n",
            "Epoch 89/100\n",
            "19/19 [==============================] - 7s 381ms/step - loss: 0.0034 - val_loss: 0.0466\n",
            "Epoch 90/100\n",
            "19/19 [==============================] - 7s 386ms/step - loss: 0.0031 - val_loss: 0.0473\n",
            "Epoch 91/100\n",
            "19/19 [==============================] - 6s 323ms/step - loss: 0.0031 - val_loss: 0.0462\n",
            "Epoch 92/100\n",
            "19/19 [==============================] - 8s 441ms/step - loss: 0.0032 - val_loss: 0.0468\n",
            "Epoch 93/100\n",
            "19/19 [==============================] - 6s 316ms/step - loss: 0.0031 - val_loss: 0.0461\n",
            "Epoch 94/100\n",
            "19/19 [==============================] - 8s 452ms/step - loss: 0.0031 - val_loss: 0.0479\n",
            "Epoch 95/100\n",
            "19/19 [==============================] - 6s 321ms/step - loss: 0.0033 - val_loss: 0.0480\n",
            "Epoch 96/100\n",
            "19/19 [==============================] - 8s 447ms/step - loss: 0.0030 - val_loss: 0.0462\n",
            "Epoch 97/100\n",
            "19/19 [==============================] - 6s 326ms/step - loss: 0.0030 - val_loss: 0.0468\n",
            "Epoch 98/100\n",
            "19/19 [==============================] - 8s 401ms/step - loss: 0.0030 - val_loss: 0.0474\n",
            "Epoch 99/100\n",
            "19/19 [==============================] - 8s 404ms/step - loss: 0.0031 - val_loss: 0.0479\n",
            "Epoch 100/100\n",
            "19/19 [==============================] - 7s 367ms/step - loss: 0.0030 - val_loss: 0.0472\n"
          ]
        }
      ],
      "source": [
        "# fix random seed for reproducibility\n",
        "seed(101)\n",
        "set_seed(101)\n",
        "\n",
        "# define model\n",
        "checkpoint_filepath = 'best_model_mang.h5'\n",
        "model = Sequential()\n",
        "model.add(LSTM(128, activation = 'relu', return_sequences=True, input_shape=(n_steps_in, n_features)))\n",
        "model.add(LSTM(128, activation = 'relu', input_shape=(n_steps_in, n_features)))\n",
        "model.add(RepeatVector(n_steps_out))\n",
        "model.add(LSTM(128, activation = 'relu', return_sequences=True))\n",
        "model.add(TimeDistributed(Dense(n_features)))\n",
        "# model.add(Dense(1))\n",
        "model.compile(optimizer='adam', loss='mse')\n",
        "\n",
        "model_checkpoint_callback = ModelCheckpoint(filepath = checkpoint_filepath, save_weights_only=True,\n",
        "                                            monitor='val_loss', mode='min', save_best_only=True)\n",
        "# fit model\n",
        "model_mang = model.fit(X_train, y_train, epochs = 100, batch_size = 150, verbose=1,\n",
        "                       validation_split=0.25, callbacks=[model_checkpoint_callback])\n"
      ]
    },
    {
      "cell_type": "code",
      "execution_count": null,
      "metadata": {
        "colab": {
          "base_uri": "https://localhost:8080/",
          "height": 430
        },
        "id": "4uuEaWXg1-IX",
        "outputId": "f8b65503-08ba-4d28-9da7-ada4f959a5ce"
      },
      "outputs": [
        {
          "output_type": "display_data",
          "data": {
            "text/plain": [
              "<Figure size 640x480 with 1 Axes>"
            ],
            "image/png": "[encoded data removed]"
          },
          "metadata": {}
        }
      ],
      "source": [
        "plt.plot(range(len(model_mang.history['loss'])), model_mang.history['loss'], label = 'training')\n",
        "plt.plot(range(len(model_mang.history['val_loss'])), model_mang.history['val_loss'], label = 'validation')\n",
        "plt.legend()\n",
        "plt.show()"
      ]
    },
    {
      "cell_type": "code",
      "execution_count": null,
      "metadata": {
        "colab": {
          "base_uri": "https://localhost:8080/",
          "height": 430
        },
        "id": "aZFvVjGSme50",
        "outputId": "5789d6af-83af-4d6a-e1ec-e6e1407f3a8c"
      },
      "outputs": [
        {
          "output_type": "display_data",
          "data": {
            "text/plain": [
              "<Figure size 640x480 with 1 Axes>"
            ],
            "image/png": "[encoded data removed]"
          },
          "metadata": {}
        }
      ],
      "source": [
        "plt.plot(range(len(model_mang.history['loss'][1:])), model_mang.history['loss'][1:], label = 'training')\n",
        "plt.plot(range(len(model_mang.history['val_loss'][1:])), model_mang.history['val_loss'][1:], label = 'validation')\n",
        "plt.legend()\n",
        "plt.show()"
      ]
    },
    {
      "cell_type": "code",
      "execution_count": null,
      "metadata": {
        "id": "e_T-1kIyuz4W",
        "colab": {
          "base_uri": "https://localhost:8080/",
          "height": 206
        },
        "outputId": "ed0ee604-8196-4596-e3b0-565225252420"
      },
      "outputs": [
        {
          "output_type": "execute_result",
          "data": {
            "text/plain": [
              "                 tanggal  Katulampa  Depok  Manggarai        KBR2         KBR4\n",
              "3672 2023-01-01 00:00:00       29.0  118.0      669.0  860.681681  1006.353364\n",
              "3673 2023-01-01 01:00:00       35.0  133.0      700.0  866.996937  1006.397310\n",
              "3674 2023-01-01 02:00:00       35.0  131.0      704.0  870.767050  1006.895161\n",
              "3675 2023-01-01 03:00:00       36.0  128.0      705.0  873.458741  1006.746029\n",
              "3676 2023-01-01 04:00:00       32.0  127.0      707.0  876.001144  1006.904927"
            ],
            "text/html": [
              "\n",
              "  <div id=\"df-5bf5e689-a783-4e7a-8264-7ff9c37d3310\" class=\"colab-df-container\">\n",
              "    <div>\n",
              "<style scoped>\n",
              "    .dataframe tbody tr th:only-of-type {\n",
              "        vertical-align: middle;\n",
              "    }\n",
              "\n",
              "    .dataframe tbody tr th {\n",
              "        vertical-align: top;\n",
              "    }\n",
              "\n",
              "    .dataframe thead th {\n",
              "        text-align: right;\n",
              "    }\n",
              "</style>\n",
              "<table border=\"1\" class=\"dataframe\">\n",
              "  <thead>\n",
              "    <tr style=\"text-align: right;\">\n",
              "      <th></th>\n",
              "      <th>tanggal</th>\n",
              "      <th>Katulampa</th>\n",
              "      <th>Depok</th>\n",
              "      <th>Manggarai</th>\n",
              "      <th>KBR2</th>\n",
              "      <th>KBR4</th>\n",
              "    </tr>\n",
              "  </thead>\n",
              "  <tbody>\n",
              "    <tr>\n",
              "      <th>3672</th>\n",
              "      <td>2023-01-01 00:00:00</td>\n",
              "      <td>29.0</td>\n",
              "      <td>118.0</td>\n",
              "      <td>669.0</td>\n",
              "      <td>860.681681</td>\n",
              "      <td>1006.353364</td>\n",
              "    </tr>\n",
              "    <tr>\n",
              "      <th>3673</th>\n",
              "      <td>2023-01-01 01:00:00</td>\n",
              "      <td>35.0</td>\n",
              "      <td>133.0</td>\n",
              "      <td>700.0</td>\n",
              "      <td>866.996937</td>\n",
              "      <td>1006.397310</td>\n",
              "    </tr>\n",
              "    <tr>\n",
              "      <th>3674</th>\n",
              "      <td>2023-01-01 02:00:00</td>\n",
              "      <td>35.0</td>\n",
              "      <td>131.0</td>\n",
              "      <td>704.0</td>\n",
              "      <td>870.767050</td>\n",
              "      <td>1006.895161</td>\n",
              "    </tr>\n",
              "    <tr>\n",
              "      <th>3675</th>\n",
              "      <td>2023-01-01 03:00:00</td>\n",
              "      <td>36.0</td>\n",
              "      <td>128.0</td>\n",
              "      <td>705.0</td>\n",
              "      <td>873.458741</td>\n",
              "      <td>1006.746029</td>\n",
              "    </tr>\n",
              "    <tr>\n",
              "      <th>3676</th>\n",
              "      <td>2023-01-01 04:00:00</td>\n",
              "      <td>32.0</td>\n",
              "      <td>127.0</td>\n",
              "      <td>707.0</td>\n",
              "      <td>876.001144</td>\n",
              "      <td>1006.904927</td>\n",
              "    </tr>\n",
              "  </tbody>\n",
              "</table>\n",
              "</div>\n",
              "    <div class=\"colab-df-buttons\">\n",
              "\n",
              "  <div class=\"colab-df-container\">\n",
              "    <button class=\"colab-df-convert\" onclick=\"convertToInteractive('df-5bf5e689-a783-4e7a-8264-7ff9c37d3310')\"\n",
              "            title=\"Convert this dataframe to an interactive table.\"\n",
              "            style=\"display:none;\">\n",
              "\n",
              "  <svg xmlns=\"http://www.w3.org/2000/svg\" height=\"24px\" viewBox=\"0 -960 960 960\">\n",
              "    <path d=\"M120-120v-720h720v720H120Zm60-500h600v-160H180v160Zm220 220h160v-160H400v160Zm0 220h160v-160H400v160ZM180-400h160v-160H180v160Zm440 0h160v-160H620v160ZM180-180h160v-160H180v160Zm440 0h160v-160H620v160Z\"/>\n",
              "  </svg>\n",
              "    </button>\n",
              "\n",
              "  <style>\n",
              "    .colab-df-container {\n",
              "      display:flex;\n",
              "      gap: 12px;\n",
              "    }\n",
              "\n",
              "    .colab-df-convert {\n",
              "      background-color: #E8F0FE;\n",
              "      border: none;\n",
              "      border-radius: 50%;\n",
              "      cursor: pointer;\n",
              "      display: none;\n",
              "      fill: #1967D2;\n",
              "      height: 32px;\n",
              "      padding: 0 0 0 0;\n",
              "      width: 32px;\n",
              "    }\n",
              "\n",
              "    .colab-df-convert:hover {\n",
              "      background-color: #E2EBFA;\n",
              "      box-shadow: 0px 1px 2px rgba(60, 64, 67, 0.3), 0px 1px 3px 1px rgba(60, 64, 67, 0.15);\n",
              "      fill: #174EA6;\n",
              "    }\n",
              "\n",
              "    .colab-df-buttons div {\n",
              "      margin-bottom: 4px;\n",
              "    }\n",
              "\n",
              "    [theme=dark] .colab-df-convert {\n",
              "      background-color: #3B4455;\n",
              "      fill: #D2E3FC;\n",
              "    }\n",
              "\n",
              "    [theme=dark] .colab-df-convert:hover {\n",
              "      background-color: #434B5C;\n",
              "      box-shadow: 0px 1px 3px 1px rgba(0, 0, 0, 0.15);\n",
              "      filter: drop-shadow(0px 1px 2px rgba(0, 0, 0, 0.3));\n",
              "      fill: #FFFFFF;\n",
              "    }\n",
              "  </style>\n",
              "\n",
              "    <script>\n",
              "      const buttonEl =\n",
              "        document.querySelector('#df-5bf5e689-a783-4e7a-8264-7ff9c37d3310 button.colab-df-convert');\n",
              "      buttonEl.style.display =\n",
              "        google.colab.kernel.accessAllowed ? 'block' : 'none';\n",
              "\n",
              "      async function convertToInteractive(key) {\n",
              "        const element = document.querySelector('#df-5bf5e689-a783-4e7a-8264-7ff9c37d3310');\n",
              "        const dataTable =\n",
              "          await google.colab.kernel.invokeFunction('convertToInteractive',\n",
              "                                                    [key], {});\n",
              "        if (!dataTable) return;\n",
              "\n",
              "        const docLinkHtml = 'Like what you see? Visit the ' +\n",
              "          '<a target=\"_blank\" href=https://colab.research.google.com/notebooks/data_table.ipynb>data table notebook</a>'\n",
              "          + ' to learn more about interactive tables.';\n",
              "        element.innerHTML = '';\n",
              "        dataTable['output_type'] = 'display_data';\n",
              "        await google.colab.output.renderOutput(dataTable, element);\n",
              "        const docLink = document.createElement('div');\n",
              "        docLink.innerHTML = docLinkHtml;\n",
              "        element.appendChild(docLink);\n",
              "      }\n",
              "    </script>\n",
              "  </div>\n",
              "\n",
              "\n",
              "<div id=\"df-e57b52dc-c48f-40ea-a18f-e80de24ce201\">\n",
              "  <button class=\"colab-df-quickchart\" onclick=\"quickchart('df-e57b52dc-c48f-40ea-a18f-e80de24ce201')\"\n",
              "            title=\"Suggest charts\"\n",
              "            style=\"display:none;\">\n",
              "\n",
              "<svg xmlns=\"http://www.w3.org/2000/svg\" height=\"24px\"viewBox=\"0 0 24 24\"\n",
              "     width=\"24px\">\n",
              "    <g>\n",
              "        <path d=\"M19 3H5c-1.1 0-2 .9-2 2v14c0 1.1.9 2 2 2h14c1.1 0 2-.9 2-2V5c0-1.1-.9-2-2-2zM9 17H7v-7h2v7zm4 0h-2V7h2v10zm4 0h-2v-4h2v4z\"/>\n",
              "    </g>\n",
              "</svg>\n",
              "  </button>\n",
              "\n",
              "<style>\n",
              "  .colab-df-quickchart {\n",
              "      --bg-color: #E8F0FE;\n",
              "      --fill-color: #1967D2;\n",
              "      --hover-bg-color: #E2EBFA;\n",
              "      --hover-fill-color: #174EA6;\n",
              "      --disabled-fill-color: #AAA;\n",
              "      --disabled-bg-color: #DDD;\n",
              "  }\n",
              "\n",
              "  [theme=dark] .colab-df-quickchart {\n",
              "      --bg-color: #3B4455;\n",
              "      --fill-color: #D2E3FC;\n",
              "      --hover-bg-color: #434B5C;\n",
              "      --hover-fill-color: #FFFFFF;\n",
              "      --disabled-bg-color: #3B4455;\n",
              "      --disabled-fill-color: #666;\n",
              "  }\n",
              "\n",
              "  .colab-df-quickchart {\n",
              "    background-color: var(--bg-color);\n",
              "    border: none;\n",
              "    border-radius: 50%;\n",
              "    cursor: pointer;\n",
              "    display: none;\n",
              "    fill: var(--fill-color);\n",
              "    height: 32px;\n",
              "    padding: 0;\n",
              "    width: 32px;\n",
              "  }\n",
              "\n",
              "  .colab-df-quickchart:hover {\n",
              "    background-color: var(--hover-bg-color);\n",
              "    box-shadow: 0 1px 2px rgba(60, 64, 67, 0.3), 0 1px 3px 1px rgba(60, 64, 67, 0.15);\n",
              "    fill: var(--button-hover-fill-color);\n",
              "  }\n",
              "\n",
              "  .colab-df-quickchart-complete:disabled,\n",
              "  .colab-df-quickchart-complete:disabled:hover {\n",
              "    background-color: var(--disabled-bg-color);\n",
              "    fill: var(--disabled-fill-color);\n",
              "    box-shadow: none;\n",
              "  }\n",
              "\n",
              "  .colab-df-spinner {\n",
              "    border: 2px solid var(--fill-color);\n",
              "    border-color: transparent;\n",
              "    border-bottom-color: var(--fill-color);\n",
              "    animation:\n",
              "      spin 1s steps(1) infinite;\n",
              "  }\n",
              "\n",
              "  @keyframes spin {\n",
              "    0% {\n",
              "      border-color: transparent;\n",
              "      border-bottom-color: var(--fill-color);\n",
              "      border-left-color: var(--fill-color);\n",
              "    }\n",
              "    20% {\n",
              "      border-color: transparent;\n",
              "      border-left-color: var(--fill-color);\n",
              "      border-top-color: var(--fill-color);\n",
              "    }\n",
              "    30% {\n",
              "      border-color: transparent;\n",
              "      border-left-color: var(--fill-color);\n",
              "      border-top-color: var(--fill-color);\n",
              "      border-right-color: var(--fill-color);\n",
              "    }\n",
              "    40% {\n",
              "      border-color: transparent;\n",
              "      border-right-color: var(--fill-color);\n",
              "      border-top-color: var(--fill-color);\n",
              "    }\n",
              "    60% {\n",
              "      border-color: transparent;\n",
              "      border-right-color: var(--fill-color);\n",
              "    }\n",
              "    80% {\n",
              "      border-color: transparent;\n",
              "      border-right-color: var(--fill-color);\n",
              "      border-bottom-color: var(--fill-color);\n",
              "    }\n",
              "    90% {\n",
              "      border-color: transparent;\n",
              "      border-bottom-color: var(--fill-color);\n",
              "    }\n",
              "  }\n",
              "</style>\n",
              "\n",
              "  <script>\n",
              "    async function quickchart(key) {\n",
              "      const quickchartButtonEl =\n",
              "        document.querySelector('#' + key + ' button');\n",
              "      quickchartButtonEl.disabled = true;  // To prevent multiple clicks.\n",
              "      quickchartButtonEl.classList.add('colab-df-spinner');\n",
              "      try {\n",
              "        const charts = await google.colab.kernel.invokeFunction(\n",
              "            'suggestCharts', [key], {});\n",
              "      } catch (error) {\n",
              "        console.error('Error during call to suggestCharts:', error);\n",
              "      }\n",
              "      quickchartButtonEl.classList.remove('colab-df-spinner');\n",
              "      quickchartButtonEl.classList.add('colab-df-quickchart-complete');\n",
              "    }\n",
              "    (() => {\n",
              "      let quickchartButtonEl =\n",
              "        document.querySelector('#df-e57b52dc-c48f-40ea-a18f-e80de24ce201 button');\n",
              "      quickchartButtonEl.style.display =\n",
              "        google.colab.kernel.accessAllowed ? 'block' : 'none';\n",
              "    })();\n",
              "  </script>\n",
              "</div>\n",
              "    </div>\n",
              "  </div>\n"
            ]
          },
          "metadata": {},
          "execution_count": 31
        }
      ],
      "source": [
        "tma_test.head()"
      ]
    },
    {
      "cell_type": "code",
      "execution_count": null,
      "metadata": {
        "id": "oUDDQKdg4Ygl"
      },
      "outputs": [],
      "source": [
        "# Prediction\n",
        "test_scaled = scaler.transform(tma_test[['Katulampa', 'Depok', 'KBR2', 'KBR4', 'Manggarai']])\n",
        "\n",
        "array_katulampa = array(test_scaled[:, 0])\n",
        "array_depok = array(test_scaled[:, 1])\n",
        "array_kbr2 = array(test_scaled[:, 2])\n",
        "array_kbr4 = array(test_scaled[:, 3])\n",
        "# array_bdr5 = array(test_scaled[:, 4])\n",
        "array_manggarai = array(test_scaled[:, 4])\n",
        "\n",
        "# convert to [rows, columns] structure\n",
        "array_katulampa = array_katulampa.reshape((len(array_katulampa), 1))\n",
        "array_depok = array_depok.reshape((len(array_depok), 1))\n",
        "array_kbr2 = array_kbr2.reshape((len(array_kbr2), 1))\n",
        "array_kbr4 = array_kbr4.reshape((len(array_kbr4), 1))\n",
        "# array_bdr5 = array_bdr5.reshape((len(array_bdr5), 1))\n",
        "array_manggarai = array_manggarai.reshape((len(array_manggarai), 1))\n",
        "\n",
        "# test_input = hstack((array_katulampa, array_depok, array_kbr2, array_kbr4, array_bdr5, array_manggarai))\n",
        "test_input = hstack((array_katulampa, array_depok, array_kbr2, array_kbr4, array_manggarai))\n",
        "X_test, y_test = split_sequences(test_input, n_steps_in, n_steps_out)\n",
        "# print(x_input)\n",
        "\n",
        "# x_input = x_input.reshape((1, n_steps_in, n_features))\n",
        "y_pred = model.predict(X_test, verbose = 0)\n"
      ]
    },
    {
      "cell_type": "code",
      "execution_count": null,
      "metadata": {
        "colab": {
          "base_uri": "https://localhost:8080/"
        },
        "id": "Ev5DH56RvBEq",
        "outputId": "d653e8c8-d9f1-4746-9232-44c6977a473c"
      },
      "outputs": [
        {
          "output_type": "stream",
          "name": "stdout",
          "text": [
            "3619 3619 2012 2012 2012\n"
          ]
        }
      ],
      "source": [
        "print(len(X_train), len(y_train), len(X_test), len(y_test), len(y_pred))"
      ]
    },
    {
      "cell_type": "code",
      "execution_count": null,
      "metadata": {
        "id": "t0E2kK9_xghd"
      },
      "outputs": [],
      "source": [
        "print(y_pred)\n",
        "# y_pred = scaler.inverse_transform(squeeze(y_pred))\n",
        "# print(y_pred)"
      ]
    },
    {
      "cell_type": "code",
      "execution_count": null,
      "metadata": {
        "id": "nm1EvSbwzbV_",
        "colab": {
          "base_uri": "https://localhost:8080/"
        },
        "outputId": "69e9d5d5-0e3c-48f8-921e-8ecea258849f"
      },
      "outputs": [
        {
          "output_type": "execute_result",
          "data": {
            "text/plain": [
              "array([[  33.        ,  128.        ,  831.36941004, 1003.90073035,\n",
              "         680.        ],\n",
              "       [  28.        ,  125.        ,  823.84513548, 1006.78875456,\n",
              "         673.        ],\n",
              "       [  28.        ,  126.        ,  817.81848814, 1007.8853696 ,\n",
              "         667.        ],\n",
              "       [  28.        ,  128.        ,  813.35775723, 1007.59504128,\n",
              "         649.        ],\n",
              "       [  27.        ,  125.        ,  811.12041332, 1007.21315882,\n",
              "         660.        ],\n",
              "       [  30.        ,  125.        ,  812.57317901, 1007.42149533,\n",
              "         661.        ]])"
            ]
          },
          "metadata": {},
          "execution_count": 36
        }
      ],
      "source": [
        "scaler.inverse_transform(y_test[0])"
      ]
    },
    {
      "cell_type": "code",
      "execution_count": null,
      "metadata": {
        "id": "pp557qo5kBIU"
      },
      "outputs": [],
      "source": [
        "scaler.inverse_transform(y_pred[0])"
      ]
    },
    {
      "cell_type": "code",
      "execution_count": null,
      "metadata": {
        "id": "DtFVJwSEbzpR"
      },
      "outputs": [],
      "source": [
        "len(X_test[0])"
      ]
    },
    {
      "cell_type": "code",
      "execution_count": null,
      "metadata": {
        "id": "jlOA8lrAb9Sp"
      },
      "outputs": [],
      "source": [
        "X_test[0]"
      ]
    },
    {
      "cell_type": "code",
      "execution_count": null,
      "metadata": {
        "id": "UXweU7gLbDwZ"
      },
      "outputs": [],
      "source": [
        "print(len(y_pred[0]), n_steps_out)"
      ]
    },
    {
      "cell_type": "code",
      "execution_count": null,
      "metadata": {
        "id": "P_gNAFvmcTE8"
      },
      "outputs": [],
      "source": [
        "y_pred[0][0][0]"
      ]
    },
    {
      "cell_type": "code",
      "execution_count": null,
      "metadata": {
        "id": "f9hX_U3QcbdF"
      },
      "outputs": [],
      "source": [
        "len(y_test[0])"
      ]
    },
    {
      "cell_type": "code",
      "execution_count": null,
      "metadata": {
        "id": "dnHR4_GccewX"
      },
      "outputs": [],
      "source": [
        "y_test_scale_inv = []\n",
        "y_pred_scale_inv = []\n",
        "for i in range(len(y_test)):\n",
        "  y_test_scale_inv.append(scaler.inverse_transform(y_test[i]))\n",
        "  y_pred_scale_inv.append(scaler.inverse_transform(y_pred[i]))"
      ]
    },
    {
      "cell_type": "code",
      "execution_count": null,
      "metadata": {
        "id": "J_tV50xTnCio",
        "colab": {
          "base_uri": "https://localhost:8080/"
        },
        "outputId": "333a9396-92de-488f-e30e-2e2737f76a90"
      },
      "outputs": [
        {
          "output_type": "execute_result",
          "data": {
            "text/plain": [
              "array([[  27.982012,  114.50074 ,  881.0097  , 1132.7443  ,  643.21454 ],\n",
              "       [  27.80202 ,  114.46703 ,  882.19507 , 1132.9863  ,  643.78406 ],\n",
              "       [  27.653538,  114.48644 ,  882.93524 , 1132.9609  ,  643.76855 ],\n",
              "       [  27.462954,  114.164665,  883.3559  , 1132.8256  ,  643.42993 ],\n",
              "       [  27.469267,  114.37511 ,  884.02124 , 1132.9294  ,  643.72144 ],\n",
              "       [  27.62266 ,  114.80609 ,  884.6806  , 1132.6412  ,  644.8582  ]],\n",
              "      dtype=float32)"
            ]
          },
          "metadata": {},
          "execution_count": 36
        }
      ],
      "source": [
        "y_pred_scale_inv[0]"
      ]
    },
    {
      "cell_type": "code",
      "execution_count": null,
      "metadata": {
        "colab": {
          "base_uri": "https://localhost:8080/",
          "height": 469
        },
        "id": "6FcnGmi4A6t7",
        "outputId": "0d28f7f7-91a8-4944-8dc7-57a7878cf2c0"
      },
      "outputs": [
        {
          "output_type": "stream",
          "name": "stdout",
          "text": [
            "Katulampa RMSE: 6.697 cm\n"
          ]
        },
        {
          "output_type": "display_data",
          "data": {
            "text/plain": [
              "<Figure size 640x480 with 1 Axes>"
            ],
            "image/png": "[encoded data removed]"
          },
          "metadata": {}
        }
      ],
      "source": [
        "# RMSE Katulampa n jam ke depan\n",
        "lokasi = 'Katulampa'\n",
        "n = 1\n",
        "y_pred_list = []\n",
        "y_test_list = []\n",
        "for i in range(len(y_test_scale_inv)):\n",
        "# for i in range(1500,1800):\n",
        "  y_pred_list.append(y_pred_scale_inv[i][n - 1][0])\n",
        "  y_test_list.append(y_test_scale_inv[i][n - 1][0])\n",
        "\n",
        "print(f'{lokasi} RMSE: %.3f cm' % sqrt(mean_squared_error(y_test_list, y_pred_list)))\n",
        "\n",
        "plt.plot(y_test_list, label = f\"TMA {lokasi} (RMSE: {round(sqrt(mean_squared_error(y_test_list, y_pred_list)), 3)} cm)\")\n",
        "plt.plot(y_pred_list, label = \"prediksi\")\n",
        "plt.title(f\"Aktual vs Prediksi {lokasi} {n} Jam Ke Depan\")\n",
        "plt.legend()\n",
        "plt.show()"
      ]
    },
    {
      "cell_type": "code",
      "execution_count": null,
      "metadata": {
        "colab": {
          "base_uri": "https://localhost:8080/",
          "height": 452
        },
        "id": "W_xLJpvOCVx7",
        "outputId": "3e38358f-f4be-4bda-9580-16bdb984fa69"
      },
      "outputs": [
        {
          "output_type": "display_data",
          "data": {
            "text/plain": [
              "<Figure size 640x480 with 1 Axes>"
            ],
            "image/png": "[encoded data removed]"
          },
          "metadata": {}
        }
      ],
      "source": [
        "fig, ax = plt.subplots()\n",
        "ax.scatter(y_pred_list, y_test_list)\n",
        "slope = 1\n",
        "x_0 = 0\n",
        "y_0 = 0\n",
        "x_1 = 100\n",
        "y_1 = slope*(x_1 - x_0) + y_0\n",
        "\n",
        "ax.scatter([x_0, x_1], [y_0, y_1], c='r')\n",
        "ax.plot([x_0, x_1], [y_0, y_1], c='r')\n",
        "plt.title(f\"Aktual vs Prediksi {lokasi} {n} Jam Ke Depan\")\n",
        "plt.show()"
      ]
    },
    {
      "cell_type": "code",
      "execution_count": null,
      "metadata": {
        "colab": {
          "base_uri": "https://localhost:8080/",
          "height": 469
        },
        "id": "u28AfrGhZaCm",
        "outputId": "39351f96-0647-4162-816d-af6011921713"
      },
      "outputs": [
        {
          "output_type": "stream",
          "name": "stdout",
          "text": [
            "Katulampa RMSE: 14.670 cm\n"
          ]
        },
        {
          "output_type": "display_data",
          "data": {
            "text/plain": [
              "<Figure size 640x480 with 1 Axes>"
            ],
            "image/png": "[encoded data removed]"
          },
          "metadata": {}
        }
      ],
      "source": [
        "# RMSE Katulampa n jam ke depan\n",
        "lokasi = 'Katulampa'\n",
        "n = 2\n",
        "y_pred_list = []\n",
        "y_test_list = []\n",
        "for i in range(len(y_test_scale_inv)):\n",
        "  y_pred_list.append(y_pred_scale_inv[i][n - 1][0])\n",
        "  y_test_list.append(y_test_scale_inv[i][n - 1][0])\n",
        "\n",
        "print(f'{lokasi} RMSE: %.3f cm' % sqrt(mean_squared_error(y_test_list, y_pred_list)))\n",
        "\n",
        "plt.plot(y_test_list, label = f\"TMA {lokasi} (RMSE: {round(sqrt(mean_squared_error(y_test_list, y_pred_list)), 3)} cm)\")\n",
        "plt.plot(y_pred_list, label = \"prediksi\")\n",
        "plt.title(f\"Aktual vs Prediksi {lokasi} {n} Jam Ke Depan\")\n",
        "plt.legend()\n",
        "plt.show()"
      ]
    },
    {
      "cell_type": "code",
      "execution_count": null,
      "metadata": {
        "colab": {
          "base_uri": "https://localhost:8080/",
          "height": 452
        },
        "id": "dD7GO4X45dFo",
        "outputId": "5257e144-db4d-4a31-8899-a1547048793f"
      },
      "outputs": [
        {
          "output_type": "display_data",
          "data": {
            "text/plain": [
              "<Figure size 640x480 with 1 Axes>"
            ],
            "image/png": "[encoded data removed]"
          },
          "metadata": {}
        }
      ],
      "source": [
        "fig, ax = plt.subplots()\n",
        "ax.scatter(y_pred_list, y_test_list)\n",
        "slope = 1\n",
        "x_0 = 0\n",
        "y_0 = 0\n",
        "x_1 = 100\n",
        "y_1 = slope*(x_1 - x_0) + y_0\n",
        "\n",
        "ax.scatter([x_0, x_1], [y_0, y_1], c='r')\n",
        "ax.plot([x_0, x_1], [y_0, y_1], c='r')\n",
        "plt.title(f\"Aktual vs Prediksi {lokasi} {n} Jam Ke Depan\")\n",
        "plt.show()"
      ]
    },
    {
      "cell_type": "code",
      "execution_count": null,
      "metadata": {
        "colab": {
          "base_uri": "https://localhost:8080/",
          "height": 469
        },
        "id": "pJR_ogsdoAtQ",
        "outputId": "0d0710ab-2894-4007-a5bb-d03ad8ae1729"
      },
      "outputs": [
        {
          "output_type": "stream",
          "name": "stdout",
          "text": [
            "Katulampa RMSE: 9.415 cm\n"
          ]
        },
        {
          "output_type": "display_data",
          "data": {
            "text/plain": [
              "<Figure size 640x480 with 1 Axes>"
            ],
            "image/png": "[encoded data removed]"
          },
          "metadata": {}
        }
      ],
      "source": [
        "# RMSE Katulampa n jam ke depan\n",
        "lokasi = 'Katulampa'\n",
        "n = 3\n",
        "y_pred_list = []\n",
        "y_test_list = []\n",
        "for i in range(len(y_test_scale_inv)):\n",
        "  y_pred_list.append(y_pred_scale_inv[i][n - 1][0])\n",
        "  y_test_list.append(y_test_scale_inv[i][n - 1][0])\n",
        "\n",
        "print(f'{lokasi} RMSE: %.3f cm' % sqrt(mean_squared_error(y_test_list, y_pred_list)))\n",
        "\n",
        "plt.plot(y_test_list, label = f\"TMA {lokasi} (RMSE: {round(sqrt(mean_squared_error(y_test_list, y_pred_list)), 3)} cm)\")\n",
        "plt.plot(y_pred_list, label = \"prediksi\")\n",
        "plt.title(f\"Aktual vs Prediksi {lokasi} {n} Jam Ke Depan\")\n",
        "plt.legend()\n",
        "plt.show()"
      ]
    },
    {
      "cell_type": "code",
      "execution_count": null,
      "metadata": {
        "colab": {
          "base_uri": "https://localhost:8080/",
          "height": 452
        },
        "id": "PYGMMrC2_FJH",
        "outputId": "88b7fd93-39c7-4b10-9bd2-ffd8e4f6a8ac"
      },
      "outputs": [
        {
          "output_type": "display_data",
          "data": {
            "text/plain": [
              "<Figure size 640x480 with 1 Axes>"
            ],
            "image/png": "[encoded data removed]"
          },
          "metadata": {}
        }
      ],
      "source": [
        "fig, ax = plt.subplots()\n",
        "ax.scatter(y_pred_list, y_test_list)\n",
        "slope = 1\n",
        "x_0 = 0\n",
        "y_0 = 0\n",
        "x_1 = 100\n",
        "y_1 = slope*(x_1 - x_0) + y_0\n",
        "\n",
        "ax.scatter([x_0, x_1], [y_0, y_1], c='r')\n",
        "ax.plot([x_0, x_1], [y_0, y_1], c='r')\n",
        "plt.title(f\"Aktual vs Prediksi {lokasi} {n} Jam Ke Depan\")\n",
        "plt.show()"
      ]
    },
    {
      "cell_type": "code",
      "execution_count": null,
      "metadata": {
        "colab": {
          "base_uri": "https://localhost:8080/",
          "height": 469
        },
        "id": "mpCB1e-9oAVR",
        "outputId": "8598118d-27b6-45d1-a7ea-93b21ecde84f"
      },
      "outputs": [
        {
          "output_type": "stream",
          "name": "stdout",
          "text": [
            "Katulampa RMSE: 9.747 cm\n"
          ]
        },
        {
          "output_type": "display_data",
          "data": {
            "text/plain": [
              "<Figure size 640x480 with 1 Axes>"
            ],
            "image/png": "[encoded data removed]"
          },
          "metadata": {}
        }
      ],
      "source": [
        "# RMSE Katulampa n jam ke depan\n",
        "lokasi = 'Katulampa'\n",
        "n = 4\n",
        "y_pred_list = []\n",
        "y_test_list = []\n",
        "for i in range(len(y_test_scale_inv)):\n",
        "  y_pred_list.append(y_pred_scale_inv[i][n - 1][0])\n",
        "  y_test_list.append(y_test_scale_inv[i][n - 1][0])\n",
        "\n",
        "print(f'{lokasi} RMSE: %.3f cm' % sqrt(mean_squared_error(y_test_list, y_pred_list)))\n",
        "\n",
        "plt.plot(y_test_list, label = f\"TMA {lokasi} (RMSE: {round(sqrt(mean_squared_error(y_test_list, y_pred_list)), 3)} cm)\")\n",
        "plt.plot(y_pred_list, label = \"prediksi\")\n",
        "plt.title(f\"Aktual vs Prediksi {lokasi} {n} Jam Ke Depan\")\n",
        "plt.legend()\n",
        "plt.show()"
      ]
    },
    {
      "cell_type": "code",
      "execution_count": null,
      "metadata": {
        "colab": {
          "base_uri": "https://localhost:8080/",
          "height": 452
        },
        "id": "6bFGDYK3_KF8",
        "outputId": "e7350e5b-b640-402b-9c29-04c27fe7647e"
      },
      "outputs": [
        {
          "output_type": "display_data",
          "data": {
            "text/plain": [
              "<Figure size 640x480 with 1 Axes>"
            ],
            "image/png": "[encoded data removed]"
          },
          "metadata": {}
        }
      ],
      "source": [
        "fig, ax = plt.subplots()\n",
        "ax.scatter(y_pred_list, y_test_list)\n",
        "slope = 1\n",
        "x_0 = 0\n",
        "y_0 = 0\n",
        "x_1 = 100\n",
        "y_1 = slope*(x_1 - x_0) + y_0\n",
        "\n",
        "ax.scatter([x_0, x_1], [y_0, y_1], c='r')\n",
        "ax.plot([x_0, x_1], [y_0, y_1], c='r')\n",
        "plt.title(f\"Aktual vs Prediksi {lokasi} {n} Jam Ke Depan\")\n",
        "plt.show()"
      ]
    },
    {
      "cell_type": "code",
      "execution_count": null,
      "metadata": {
        "colab": {
          "base_uri": "https://localhost:8080/",
          "height": 469
        },
        "id": "2TZFpWWMoPnM",
        "outputId": "82f17cbf-4839-4924-b0ef-57d81cb3910c"
      },
      "outputs": [
        {
          "output_type": "stream",
          "name": "stdout",
          "text": [
            "Katulampa RMSE: 10.045 cm\n"
          ]
        },
        {
          "output_type": "display_data",
          "data": {
            "text/plain": [
              "<Figure size 640x480 with 1 Axes>"
            ],
            "image/png": "[encoded data removed]"
          },
          "metadata": {}
        }
      ],
      "source": [
        "# RMSE Katulampa n jam ke depan\n",
        "lokasi = 'Katulampa'\n",
        "n = 5\n",
        "y_pred_list = []\n",
        "y_test_list = []\n",
        "for i in range(len(y_test_scale_inv)):\n",
        "  y_pred_list.append(y_pred_scale_inv[i][n - 1][0])\n",
        "  y_test_list.append(y_test_scale_inv[i][n - 1][0])\n",
        "\n",
        "print(f'{lokasi} RMSE: %.3f cm' % sqrt(mean_squared_error(y_test_list, y_pred_list)))\n",
        "\n",
        "plt.plot(y_test_list, label = f\"TMA {lokasi} (RMSE: {round(sqrt(mean_squared_error(y_test_list, y_pred_list)), 3)} cm)\")\n",
        "plt.plot(y_pred_list, label = \"prediksi\")\n",
        "plt.title(f\"Aktual vs Prediksi {lokasi} {n} Jam Ke Depan\")\n",
        "plt.legend()\n",
        "plt.show()"
      ]
    },
    {
      "cell_type": "code",
      "execution_count": null,
      "metadata": {
        "id": "p1eu38hi_PZD"
      },
      "outputs": [],
      "source": [
        "fig, ax = plt.subplots()\n",
        "ax.scatter(y_pred_list, y_test_list)\n",
        "slope = 1\n",
        "x_0 = 0\n",
        "y_0 = 0\n",
        "x_1 = 100\n",
        "y_1 = slope*(x_1 - x_0) + y_0\n",
        "\n",
        "ax.scatter([x_0, x_1], [y_0, y_1], c='r')\n",
        "ax.plot([x_0, x_1], [y_0, y_1], c='r')\n",
        "plt.title(f\"Aktual vs Prediksi {lokasi} {n} Jam Ke Depan\")\n",
        "plt.show()"
      ]
    },
    {
      "cell_type": "code",
      "execution_count": null,
      "metadata": {
        "id": "IjbCs2s-oSwN"
      },
      "outputs": [],
      "source": [
        "# RMSE Katulampa n jam ke depan\n",
        "lokasi = 'Katulampa'\n",
        "n = 6\n",
        "y_pred_list = []\n",
        "y_test_list = []\n",
        "for i in range(len(y_test_scale_inv)):\n",
        "  y_pred_list.append(y_pred_scale_inv[i][n - 1][0])\n",
        "  y_test_list.append(y_test_scale_inv[i][n - 1][0])\n",
        "\n",
        "print(f'{lokasi} RMSE: %.3f cm' % sqrt(mean_squared_error(y_test_list, y_pred_list)))\n",
        "\n",
        "plt.plot(y_test_list, label = f\"TMA {lokasi} (RMSE: {round(sqrt(mean_squared_error(y_test_list, y_pred_list)), 3)} cm)\")\n",
        "plt.plot(y_pred_list, label = \"prediksi\")\n",
        "plt.title(f\"Aktual vs Prediksi {lokasi} {n} Jam Ke Depan\")\n",
        "plt.legend()\n",
        "plt.show()"
      ]
    },
    {
      "cell_type": "code",
      "execution_count": null,
      "metadata": {
        "id": "b8dPOzQN_VFK"
      },
      "outputs": [],
      "source": [
        "fig, ax = plt.subplots()\n",
        "ax.scatter(y_pred_list, y_test_list)\n",
        "slope = 1\n",
        "x_0 = 0\n",
        "y_0 = 0\n",
        "x_1 = 100\n",
        "y_1 = slope*(x_1 - x_0) + y_0\n",
        "\n",
        "ax.scatter([x_0, x_1], [y_0, y_1], c='r')\n",
        "ax.plot([x_0, x_1], [y_0, y_1], c='r')\n",
        "plt.title(f\"Aktual vs Prediksi {lokasi} {n} Jam Ke Depan\")\n",
        "plt.show()"
      ]
    },
    {
      "cell_type": "code",
      "execution_count": null,
      "metadata": {
        "id": "tqwBx7XBc-5t"
      },
      "outputs": [],
      "source": [
        "# RMSE Depok n jam ke depan\n",
        "lokasi = 'Depok'\n",
        "n = 1\n",
        "y_pred_list = []\n",
        "y_test_list = []\n",
        "for i in range(len(y_test_scale_inv)):\n",
        "  y_pred_list.append(y_pred_scale_inv[i][n - 1][1])\n",
        "  y_test_list.append(y_test_scale_inv[i][n - 1][1])\n",
        "\n",
        "print(f'{lokasi} RMSE: %.3f cm' % sqrt(mean_squared_error(y_test_list, y_pred_list)))\n",
        "\n",
        "plt.plot(y_test_list, label = f\"TMA {lokasi} (RMSE: {round(sqrt(mean_squared_error(y_test_list, y_pred_list)), 3)} cm)\")\n",
        "plt.plot(y_pred_list, label = \"prediksi\")\n",
        "plt.title(f\"Aktual vs Prediksi {lokasi} {n} Jam Ke Depan\")\n",
        "plt.legend()\n",
        "plt.show()"
      ]
    },
    {
      "cell_type": "code",
      "execution_count": null,
      "metadata": {
        "id": "F9IRlkRO_YhO"
      },
      "outputs": [],
      "source": [
        "fig, ax = plt.subplots()\n",
        "ax.scatter(y_pred_list, y_test_list)\n",
        "slope = 1\n",
        "x_0 = 50\n",
        "y_0 = 50\n",
        "x_1 = 200\n",
        "y_1 = slope*(x_1 - x_0) + y_0\n",
        "\n",
        "ax.scatter([x_0, x_1], [y_0, y_1], c='r')\n",
        "ax.plot([x_0, x_1], [y_0, y_1], c='r')\n",
        "plt.title(f\"Aktual vs Prediksi {lokasi} {n} Jam Ke Depan\")\n",
        "plt.show()"
      ]
    },
    {
      "cell_type": "code",
      "execution_count": null,
      "metadata": {
        "id": "xsREC8nQfLuL"
      },
      "outputs": [],
      "source": [
        "# RMSE Depok n jam ke depan\n",
        "lokasi = 'Depok'\n",
        "n = 2\n",
        "y_pred_list = []\n",
        "y_test_list = []\n",
        "for i in range(len(y_test_scale_inv)):\n",
        "  y_pred_list.append(y_pred_scale_inv[i][n - 1][1])\n",
        "  y_test_list.append(y_test_scale_inv[i][n - 1][1])\n",
        "\n",
        "print(f'{lokasi} RMSE: %.3f cm' % sqrt(mean_squared_error(y_test_list, y_pred_list)))\n",
        "\n",
        "plt.plot(y_test_list, label = f\"TMA {lokasi} (RMSE: {round(sqrt(mean_squared_error(y_test_list, y_pred_list)), 3)} cm)\")\n",
        "plt.plot(y_pred_list, label = \"prediksi\")\n",
        "plt.title(f\"Aktual vs Prediksi {lokasi} {n} Jam Ke Depan\")\n",
        "plt.legend()\n",
        "plt.show()"
      ]
    },
    {
      "cell_type": "code",
      "execution_count": null,
      "metadata": {
        "id": "I0d3GkBP_o8u"
      },
      "outputs": [],
      "source": [
        "fig, ax = plt.subplots()\n",
        "ax.scatter(y_pred_list, y_test_list)\n",
        "slope = 1\n",
        "x_0 = 50\n",
        "y_0 = 50\n",
        "x_1 = 200\n",
        "y_1 = slope*(x_1 - x_0) + y_0\n",
        "\n",
        "ax.scatter([x_0, x_1], [y_0, y_1], c='r')\n",
        "ax.plot([x_0, x_1], [y_0, y_1], c='r')\n",
        "plt.title(f\"Aktual vs Prediksi {lokasi} {n} Jam Ke Depan\")\n",
        "plt.show()"
      ]
    },
    {
      "cell_type": "code",
      "execution_count": null,
      "metadata": {
        "id": "BXhTAWGBpIf8"
      },
      "outputs": [],
      "source": [
        "# RMSE Depok n jam ke depan\n",
        "lokasi = 'Depok'\n",
        "n = 3\n",
        "y_pred_list = []\n",
        "y_test_list = []\n",
        "for i in range(len(y_test_scale_inv)):\n",
        "  y_pred_list.append(y_pred_scale_inv[i][n - 1][1])\n",
        "  y_test_list.append(y_test_scale_inv[i][n - 1][1])\n",
        "\n",
        "print(f'{lokasi} RMSE: %.3f cm' % sqrt(mean_squared_error(y_test_list, y_pred_list)))\n",
        "\n",
        "plt.plot(y_test_list, label = f\"TMA {lokasi} (RMSE: {round(sqrt(mean_squared_error(y_test_list, y_pred_list)), 3)} cm)\")\n",
        "plt.plot(y_pred_list, label = \"prediksi\")\n",
        "plt.title(f\"Aktual vs Prediksi {lokasi} {n} Jam Ke Depan\")\n",
        "plt.legend()\n",
        "plt.show()"
      ]
    },
    {
      "cell_type": "code",
      "execution_count": null,
      "metadata": {
        "id": "tQr3_RfW_tiJ"
      },
      "outputs": [],
      "source": [
        "fig, ax = plt.subplots()\n",
        "ax.scatter(y_pred_list, y_test_list)\n",
        "slope = 1\n",
        "x_0 = 50\n",
        "y_0 = 50\n",
        "x_1 = 200\n",
        "y_1 = slope*(x_1 - x_0) + y_0\n",
        "\n",
        "ax.scatter([x_0, x_1], [y_0, y_1], c='r')\n",
        "ax.plot([x_0, x_1], [y_0, y_1], c='r')\n",
        "plt.title(f\"Aktual vs Prediksi {lokasi} {n} Jam Ke Depan\")\n",
        "plt.show()"
      ]
    },
    {
      "cell_type": "code",
      "execution_count": null,
      "metadata": {
        "id": "r45giL6ApOw1"
      },
      "outputs": [],
      "source": [
        "# RMSE Depok n jam ke depan\n",
        "lokasi = 'Depok'\n",
        "n = 4\n",
        "y_pred_list = []\n",
        "y_test_list = []\n",
        "for i in range(len(y_test_scale_inv)):\n",
        "  y_pred_list.append(y_pred_scale_inv[i][n - 1][1])\n",
        "  y_test_list.append(y_test_scale_inv[i][n - 1][1])\n",
        "\n",
        "print(f'{lokasi} RMSEm: %.3f cm' % sqrt(mean_squared_error(y_test_list, y_pred_list)))\n",
        "\n",
        "plt.plot(y_test_list, label = f\"TMA {lokasi} (RMSE: {round(sqrt(mean_squared_error(y_test_list, y_pred_list)), 3)} cm)\")\n",
        "plt.plot(y_pred_list, label = \"prediksi\")\n",
        "plt.title(f\"Aktual vs Prediksi {lokasi} {n} Jam Ke Depan\")\n",
        "plt.legend()\n",
        "plt.show()"
      ]
    },
    {
      "cell_type": "code",
      "execution_count": null,
      "metadata": {
        "id": "KkfMcm8E_y3e"
      },
      "outputs": [],
      "source": [
        "fig, ax = plt.subplots()\n",
        "ax.scatter(y_pred_list, y_test_list)\n",
        "slope = 1\n",
        "x_0 = 50\n",
        "y_0 = 50\n",
        "x_1 = 300\n",
        "y_1 = slope*(x_1 - x_0) + y_0\n",
        "\n",
        "ax.scatter([x_0, x_1], [y_0, y_1], c='r')\n",
        "ax.plot([x_0, x_1], [y_0, y_1], c='r')\n",
        "plt.title(f\"Aktual vs Prediksi {lokasi} {n} Jam Ke Depan\")\n",
        "plt.show()"
      ]
    },
    {
      "cell_type": "code",
      "execution_count": null,
      "metadata": {
        "id": "S_yrU0RhpW8T"
      },
      "outputs": [],
      "source": [
        "# RMSE Depok n jam ke depan\n",
        "lokasi = 'Depok'\n",
        "n = 5\n",
        "y_pred_list = []\n",
        "y_test_list = []\n",
        "for i in range(len(y_test_scale_inv)):\n",
        "  y_pred_list.append(y_pred_scale_inv[i][n - 1][1])\n",
        "  y_test_list.append(y_test_scale_inv[i][n - 1][1])\n",
        "\n",
        "print(f'{lokasi} RMSE: %.3f cm' % sqrt(mean_squared_error(y_test_list, y_pred_list)))\n",
        "\n",
        "plt.plot(y_test_list, label = f\"TMA {lokasi} (RMSE: {round(sqrt(mean_squared_error(y_test_list, y_pred_list)), 3)} cm)\")\n",
        "plt.plot(y_pred_list, label = \"prediksi\")\n",
        "plt.title(f\"Aktual vs Prediksi {lokasi} {n} Jam Ke Depan\")\n",
        "plt.legend()\n",
        "plt.show()"
      ]
    },
    {
      "cell_type": "code",
      "execution_count": null,
      "metadata": {
        "id": "iaURxq80_9O5"
      },
      "outputs": [],
      "source": [
        "fig, ax = plt.subplots()\n",
        "ax.scatter(y_pred_list, y_test_list)\n",
        "slope = 1\n",
        "x_0 = 50\n",
        "y_0 = 50\n",
        "x_1 = 300\n",
        "y_1 = slope*(x_1 - x_0) + y_0\n",
        "\n",
        "ax.scatter([x_0, x_1], [y_0, y_1], c='r')\n",
        "ax.plot([x_0, x_1], [y_0, y_1], c='r')\n",
        "plt.title(f\"Aktual vs Prediksi {lokasi} {n} Jam Ke Depan\")\n",
        "plt.show()"
      ]
    },
    {
      "cell_type": "code",
      "execution_count": null,
      "metadata": {
        "id": "jcCxeiXbpd_e"
      },
      "outputs": [],
      "source": [
        "# RMSE Depok n jam ke depan\n",
        "lokasi = 'Depok'\n",
        "n = 6\n",
        "y_pred_list = []\n",
        "y_test_list = []\n",
        "for i in range(len(y_test_scale_inv)):\n",
        "  y_pred_list.append(y_pred_scale_inv[i][n - 1][1])\n",
        "  y_test_list.append(y_test_scale_inv[i][n - 1][1])\n",
        "\n",
        "print(f'{lokasi} RMSE: %.3f cm' % sqrt(mean_squared_error(y_test_list, y_pred_list)))\n",
        "\n",
        "plt.plot(y_test_list, label = f\"TMA {lokasi} (RMSE: {round(sqrt(mean_squared_error(y_test_list, y_pred_list)), 3)} cm)\")\n",
        "plt.plot(y_pred_list, label = \"prediksi\")\n",
        "plt.title(f\"Aktual vs Prediksi {lokasi} {n} Jam Ke Depan\")\n",
        "plt.legend()\n",
        "plt.show()"
      ]
    },
    {
      "cell_type": "code",
      "execution_count": null,
      "metadata": {
        "id": "4e0FV783ABSr"
      },
      "outputs": [],
      "source": [
        "fig, ax = plt.subplots()\n",
        "ax.scatter(y_pred_list, y_test_list)\n",
        "slope = 1\n",
        "x_0 = 50\n",
        "y_0 = 50\n",
        "x_1 = 300\n",
        "y_1 = slope*(x_1 - x_0) + y_0\n",
        "\n",
        "ax.scatter([x_0, x_1], [y_0, y_1], c='r')\n",
        "ax.plot([x_0, x_1], [y_0, y_1], c='r')\n",
        "plt.title(f\"Aktual vs Prediksi {lokasi} {n} Jam Ke Depan\")\n",
        "plt.xlabel(\"Prediksi\")\n",
        "plt.ylabel(\"Aktual\")\n",
        "plt.show()"
      ]
    },
    {
      "cell_type": "code",
      "execution_count": null,
      "metadata": {
        "id": "_MogSJkmepJE"
      },
      "outputs": [],
      "source": [
        "# RMSE KBR2 n jam ke depan\n",
        "lokasi = 'KBR2'\n",
        "n = 1\n",
        "y_pred_list = []\n",
        "y_test_list = []\n",
        "for i in range(len(y_test_scale_inv)):\n",
        "  y_pred_list.append(y_pred_scale_inv[i][n - 1][2])\n",
        "  y_test_list.append(y_test_scale_inv[i][n - 1][2])\n",
        "\n",
        "print(f'{lokasi} RMSE: %.3f cm' % sqrt(mean_squared_error(y_test_list, y_pred_list)))\n",
        "\n",
        "plt.plot(y_test_list, label = f\"TMA {lokasi} (RMSE: {round(sqrt(mean_squared_error(y_test_list, y_pred_list)), 3)} cm)\")\n",
        "plt.plot(y_pred_list, label = \"prediksi\")\n",
        "plt.title(f\"Aktual vs Prediksi {lokasi} {n} Jam Ke Depan\")\n",
        "plt.legend()\n",
        "plt.show()"
      ]
    },
    {
      "cell_type": "code",
      "execution_count": null,
      "metadata": {
        "id": "rjbYL6J3AsfU"
      },
      "outputs": [],
      "source": [
        "fig, ax = plt.subplots()\n",
        "ax.scatter(y_pred_list, y_test_list)\n",
        "slope = 1\n",
        "x_0 = 800\n",
        "y_0 = 800\n",
        "x_1 = 1200\n",
        "y_1 = slope*(x_1 - x_0) + y_0\n",
        "\n",
        "ax.scatter([x_0, x_1], [y_0, y_1], c='r')\n",
        "ax.plot([x_0, x_1], [y_0, y_1], c='r')\n",
        "plt.title(f\"Aktual vs Prediksi {lokasi} {n} Jam Ke Depan\")\n",
        "plt.xlabel(\"Prediksi\")\n",
        "plt.ylabel(\"Aktual\")\n",
        "plt.show()"
      ]
    },
    {
      "cell_type": "code",
      "execution_count": null,
      "metadata": {
        "id": "-vYTaEnEfT8d"
      },
      "outputs": [],
      "source": [
        "# RMSE KBR2 n jam ke depan\n",
        "lokasi = 'KBR2'\n",
        "n = 2\n",
        "y_pred_list = []\n",
        "y_test_list = []\n",
        "for i in range(len(y_test_scale_inv)):\n",
        "  y_pred_list.append(y_pred_scale_inv[i][n - 1][2])\n",
        "  y_test_list.append(y_test_scale_inv[i][n - 1][2])\n",
        "\n",
        "print(f'{lokasi} RMSE: %.3f cm' % sqrt(mean_squared_error(y_test_list, y_pred_list)))\n",
        "\n",
        "plt.plot(y_test_list, label = f\"TMA {lokasi} (RMSE: {round(sqrt(mean_squared_error(y_test_list, y_pred_list)), 3)} cm)\")\n",
        "plt.plot(y_pred_list, label = \"prediksi\")\n",
        "plt.title(f\"Aktual vs Prediksi {lokasi} {n} Jam Ke Depan\")\n",
        "plt.legend()\n",
        "plt.show()"
      ]
    },
    {
      "cell_type": "code",
      "execution_count": null,
      "metadata": {
        "id": "q6Bi92odA6_g"
      },
      "outputs": [],
      "source": [
        "fig, ax = plt.subplots()\n",
        "ax.scatter(y_pred_list, y_test_list)\n",
        "slope = 1\n",
        "x_0 = 800\n",
        "y_0 = 800\n",
        "x_1 = 1200\n",
        "y_1 = slope*(x_1 - x_0) + y_0\n",
        "\n",
        "ax.scatter([x_0, x_1], [y_0, y_1], c='r')\n",
        "ax.plot([x_0, x_1], [y_0, y_1], c='r')\n",
        "plt.title(f\"Aktual vs Prediksi {lokasi} {n} Jam Ke Depan\")\n",
        "plt.xlabel(\"Prediksi\")\n",
        "plt.ylabel(\"Aktual\")\n",
        "plt.show()"
      ]
    },
    {
      "cell_type": "code",
      "execution_count": null,
      "metadata": {
        "id": "E6qUkbKGq9wu"
      },
      "outputs": [],
      "source": [
        "# RMSE KBR2 n jam ke depan\n",
        "lokasi = 'KBR2'\n",
        "n = 3\n",
        "y_pred_list = []\n",
        "y_test_list = []\n",
        "for i in range(len(y_test_scale_inv)):\n",
        "  y_pred_list.append(y_pred_scale_inv[i][n - 1][2])\n",
        "  y_test_list.append(y_test_scale_inv[i][n - 1][2])\n",
        "\n",
        "print(f'{lokasi} RMSE: %.3f cm' % sqrt(mean_squared_error(y_test_list, y_pred_list)))\n",
        "\n",
        "plt.plot(y_test_list, label = f\"TMA {lokasi} (RMSE: {round(sqrt(mean_squared_error(y_test_list, y_pred_list)), 3)} cm)\")\n",
        "plt.plot(y_pred_list, label = \"prediksi\")\n",
        "plt.title(f\"Aktual vs Prediksi {lokasi} {n} Jam Ke Depan\")\n",
        "plt.legend()\n",
        "plt.show()"
      ]
    },
    {
      "cell_type": "code",
      "execution_count": null,
      "metadata": {
        "id": "3NROFFBbA9xx"
      },
      "outputs": [],
      "source": [
        "fig, ax = plt.subplots()\n",
        "ax.scatter(y_pred_list, y_test_list)\n",
        "slope = 1\n",
        "x_0 = 800\n",
        "y_0 = 800\n",
        "x_1 = 1200\n",
        "y_1 = slope*(x_1 - x_0) + y_0\n",
        "\n",
        "ax.scatter([x_0, x_1], [y_0, y_1], c='r')\n",
        "ax.plot([x_0, x_1], [y_0, y_1], c='r')\n",
        "plt.title(f\"Aktual vs Prediksi {lokasi} {n} Jam Ke Depan\")\n",
        "plt.xlabel(\"Prediksi\")\n",
        "plt.ylabel(\"Aktual\")\n",
        "plt.show()"
      ]
    },
    {
      "cell_type": "code",
      "execution_count": null,
      "metadata": {
        "id": "ow3OCa3jrCm7"
      },
      "outputs": [],
      "source": [
        "# RMSE KBR2 n jam ke depan\n",
        "lokasi = 'KBR2'\n",
        "n = 4\n",
        "y_pred_list = []\n",
        "y_test_list = []\n",
        "for i in range(len(y_test_scale_inv)):\n",
        "  y_pred_list.append(y_pred_scale_inv[i][n - 1][2])\n",
        "  y_test_list.append(y_test_scale_inv[i][n - 1][2])\n",
        "\n",
        "print(f'{lokasi} RMSE: %.3f cm' % sqrt(mean_squared_error(y_test_list, y_pred_list)))\n",
        "\n",
        "plt.plot(y_test_list, label = f\"TMA {lokasi} (RMSE: {round(sqrt(mean_squared_error(y_test_list, y_pred_list)), 3)} cm)\")\n",
        "plt.plot(y_pred_list, label = \"prediksi\")\n",
        "plt.title(f\"Aktual vs Prediksi {lokasi} {n} Jam Ke Depan\")\n",
        "plt.legend()\n",
        "plt.show()"
      ]
    },
    {
      "cell_type": "code",
      "execution_count": null,
      "metadata": {
        "id": "rKKCe-Q0BALx"
      },
      "outputs": [],
      "source": [
        "fig, ax = plt.subplots()\n",
        "ax.scatter(y_pred_list, y_test_list)\n",
        "slope = 1\n",
        "x_0 = 800\n",
        "y_0 = 800\n",
        "x_1 = 1200\n",
        "y_1 = slope*(x_1 - x_0) + y_0\n",
        "\n",
        "ax.scatter([x_0, x_1], [y_0, y_1], c='r')\n",
        "ax.plot([x_0, x_1], [y_0, y_1], c='r')\n",
        "plt.title(f\"Aktual vs Prediksi {lokasi} {n} Jam Ke Depan\")\n",
        "plt.xlabel(\"Prediksi\")\n",
        "plt.ylabel(\"Aktual\")\n",
        "plt.show()"
      ]
    },
    {
      "cell_type": "code",
      "execution_count": null,
      "metadata": {
        "id": "Uq1Hq2KBrGLs"
      },
      "outputs": [],
      "source": [
        "# RMSE KBR2 n jam ke depan\n",
        "lokasi = 'KBR2'\n",
        "n = 5\n",
        "y_pred_list = []\n",
        "y_test_list = []\n",
        "for i in range(len(y_test_scale_inv)):\n",
        "  y_pred_list.append(y_pred_scale_inv[i][n - 1][2])\n",
        "  y_test_list.append(y_test_scale_inv[i][n - 1][2])\n",
        "\n",
        "print(f'{lokasi} RMSE: %.3f cm' % sqrt(mean_squared_error(y_test_list, y_pred_list)))\n",
        "\n",
        "plt.plot(y_test_list, label = f\"TMA {lokasi} (RMSE: {round(sqrt(mean_squared_error(y_test_list, y_pred_list)), 3)} cm)\")\n",
        "plt.plot(y_pred_list, label = \"prediksi\")\n",
        "plt.title(f\"Aktual vs Prediksi {lokasi} {n} Jam Ke Depan\")\n",
        "plt.legend()\n",
        "plt.show()"
      ]
    },
    {
      "cell_type": "code",
      "execution_count": null,
      "metadata": {
        "id": "OyJre-HoBDsO"
      },
      "outputs": [],
      "source": [
        "fig, ax = plt.subplots()\n",
        "ax.scatter(y_pred_list, y_test_list)\n",
        "slope = 1\n",
        "x_0 = 800\n",
        "y_0 = 800\n",
        "x_1 = 1200\n",
        "y_1 = slope*(x_1 - x_0) + y_0\n",
        "\n",
        "ax.scatter([x_0, x_1], [y_0, y_1], c='r')\n",
        "ax.plot([x_0, x_1], [y_0, y_1], c='r')\n",
        "plt.title(f\"Aktual vs Prediksi {lokasi} {n} Jam Ke Depan\")\n",
        "plt.xlabel(\"Prediksi\")\n",
        "plt.ylabel(\"Aktual\")\n",
        "plt.show()"
      ]
    },
    {
      "cell_type": "code",
      "execution_count": null,
      "metadata": {
        "id": "X5LPI6DGrJqO"
      },
      "outputs": [],
      "source": [
        "# RMSE KBR2 n jam ke depan\n",
        "lokasi = 'KBR2'\n",
        "n = 6\n",
        "y_pred_list = []\n",
        "y_test_list = []\n",
        "for i in range(len(y_test_scale_inv)):\n",
        "  y_pred_list.append(y_pred_scale_inv[i][n - 1][2])\n",
        "  y_test_list.append(y_test_scale_inv[i][n - 1][2])\n",
        "\n",
        "print(f'{lokasi} RMSE: %.3f cm' % sqrt(mean_squared_error(y_test_list, y_pred_list)))\n",
        "\n",
        "plt.plot(y_test_list, label = f\"TMA {lokasi} (RMSE: {round(sqrt(mean_squared_error(y_test_list, y_pred_list)), 3)} cm)\")\n",
        "plt.plot(y_pred_list, label = \"prediksi\")\n",
        "plt.title(f\"Aktual vs Prediksi {lokasi} {n} Jam Ke Depan\")\n",
        "plt.legend()\n",
        "plt.show()"
      ]
    },
    {
      "cell_type": "code",
      "execution_count": null,
      "metadata": {
        "id": "voMjDPEgBGkP"
      },
      "outputs": [],
      "source": [
        "fig, ax = plt.subplots()\n",
        "ax.scatter(y_pred_list, y_test_list)\n",
        "slope = 1\n",
        "x_0 = 800\n",
        "y_0 = 800\n",
        "x_1 = 1200\n",
        "y_1 = slope*(x_1 - x_0) + y_0\n",
        "\n",
        "ax.scatter([x_0, x_1], [y_0, y_1], c='r')\n",
        "ax.plot([x_0, x_1], [y_0, y_1], c='r')\n",
        "plt.title(f\"Aktual vs Prediksi {lokasi} {n} Jam Ke Depan\")\n",
        "plt.xlabel(\"Prediksi\")\n",
        "plt.ylabel(\"Aktual\")\n",
        "plt.show()"
      ]
    },
    {
      "cell_type": "code",
      "execution_count": null,
      "metadata": {
        "id": "ReB6q3Dmewh1"
      },
      "outputs": [],
      "source": [
        "# RMSE KBR4 n jam ke depan\n",
        "lokasi = 'KBR4'\n",
        "n = 1\n",
        "y_pred_list = []\n",
        "y_test_list = []\n",
        "for i in range(len(y_test_scale_inv)):\n",
        "  y_pred_list.append(y_pred_scale_inv[i][n - 1][3])\n",
        "  y_test_list.append(y_test_scale_inv[i][n - 1][3])\n",
        "\n",
        "print(f'{lokasi} RMSE: %.3f cm' % sqrt(mean_squared_error(y_test_list, y_pred_list)))\n",
        "\n",
        "plt.plot(y_test_list, label = f\"TMA {lokasi} (RMSE: {round(sqrt(mean_squared_error(y_test_list, y_pred_list)), 3)} cm)\")\n",
        "plt.plot(y_pred_list, label = \"prediksi\")\n",
        "plt.title(f\"Aktual vs Prediksi {lokasi} {n} Jam Ke Depan\")\n",
        "plt.legend()\n",
        "plt.show()"
      ]
    },
    {
      "cell_type": "code",
      "execution_count": null,
      "metadata": {
        "id": "n141opUoEu5r"
      },
      "outputs": [],
      "source": [
        "fig, ax = plt.subplots()\n",
        "ax.scatter(y_pred_list, y_test_list)\n",
        "slope = 1\n",
        "x_0 = 1100\n",
        "y_0 = 1100\n",
        "x_1 = 1180\n",
        "y_1 = slope*(x_1 - x_0) + y_0\n",
        "\n",
        "ax.scatter([x_0, x_1], [y_0, y_1], c='r')\n",
        "ax.plot([x_0, x_1], [y_0, y_1], c='r')\n",
        "plt.title(f\"Aktual vs Prediksi {lokasi} {n} Jam Ke Depan\")\n",
        "plt.xlabel(\"Prediksi\")\n",
        "plt.ylabel(\"Aktual\")\n",
        "plt.show()"
      ]
    },
    {
      "cell_type": "code",
      "execution_count": null,
      "metadata": {
        "id": "g0UvLz3xftIl"
      },
      "outputs": [],
      "source": [
        "# RMSE KBR4 n jam ke depan\n",
        "lokasi = 'KBR4'\n",
        "n = 2\n",
        "y_pred_list = []\n",
        "y_test_list = []\n",
        "for i in range(len(y_test_scale_inv)):\n",
        "  y_pred_list.append(y_pred_scale_inv[i][n - 1][3])\n",
        "  y_test_list.append(y_test_scale_inv[i][n - 1][3])\n",
        "\n",
        "print(f'{lokasi} RMSE: %.3f cm' % sqrt(mean_squared_error(y_test_list, y_pred_list)))\n",
        "\n",
        "plt.plot(y_test_list, label = f\"TMA {lokasi} (RMSE: {round(sqrt(mean_squared_error(y_test_list, y_pred_list)), 3)} cm)\")\n",
        "plt.plot(y_pred_list, label = \"prediksi\")\n",
        "plt.title(f\"Aktual vs Prediksi {lokasi} {n} Jam Ke Depan\")\n",
        "plt.legend()\n",
        "plt.show()"
      ]
    },
    {
      "cell_type": "code",
      "execution_count": null,
      "metadata": {
        "id": "m6Ry1jysF5CX"
      },
      "outputs": [],
      "source": [
        "fig, ax = plt.subplots()\n",
        "ax.scatter(y_pred_list, y_test_list)\n",
        "slope = 1\n",
        "x_0 = 1100\n",
        "y_0 = 1100\n",
        "x_1 = 1180\n",
        "y_1 = slope*(x_1 - x_0) + y_0\n",
        "\n",
        "ax.scatter([x_0, x_1], [y_0, y_1], c='r')\n",
        "ax.plot([x_0, x_1], [y_0, y_1], c='r')\n",
        "plt.title(f\"Aktual vs Prediksi {lokasi} {n} Jam Ke Depan\")\n",
        "plt.xlabel(\"Prediksi\")\n",
        "plt.ylabel(\"Aktual\")\n",
        "plt.show()"
      ]
    },
    {
      "cell_type": "code",
      "execution_count": null,
      "metadata": {
        "id": "1Z6I93BnrTut"
      },
      "outputs": [],
      "source": [
        "# RMSE KBR4 n jam ke depan\n",
        "lokasi = 'KBR4'\n",
        "n = 3\n",
        "y_pred_list = []\n",
        "y_test_list = []\n",
        "for i in range(len(y_test_scale_inv)):\n",
        "  y_pred_list.append(y_pred_scale_inv[i][n - 1][3])\n",
        "  y_test_list.append(y_test_scale_inv[i][n - 1][3])\n",
        "\n",
        "print(f'{lokasi} RMSE: %.3f cm' % sqrt(mean_squared_error(y_test_list, y_pred_list)))\n",
        "\n",
        "plt.plot(y_test_list, label = f\"TMA {lokasi} (RMSE: {round(sqrt(mean_squared_error(y_test_list, y_pred_list)), 3)} cm)\")\n",
        "plt.plot(y_pred_list, label = \"prediksi\")\n",
        "plt.title(f\"Aktual vs Prediksi {lokasi} {n} Jam Ke Depan\")\n",
        "plt.legend()\n",
        "plt.show()"
      ]
    },
    {
      "cell_type": "code",
      "execution_count": null,
      "metadata": {
        "id": "AYBwUH7rF7-D"
      },
      "outputs": [],
      "source": [
        "fig, ax = plt.subplots()\n",
        "ax.scatter(y_pred_list, y_test_list)\n",
        "slope = 1\n",
        "x_0 = 1100\n",
        "y_0 = 1100\n",
        "x_1 = 1180\n",
        "y_1 = slope*(x_1 - x_0) + y_0\n",
        "\n",
        "ax.scatter([x_0, x_1], [y_0, y_1], c='r')\n",
        "ax.plot([x_0, x_1], [y_0, y_1], c='r')\n",
        "plt.title(f\"Aktual vs Prediksi {lokasi} {n} Jam Ke Depan\")\n",
        "plt.xlabel(\"Prediksi\")\n",
        "plt.ylabel(\"Aktual\")\n",
        "plt.show()"
      ]
    },
    {
      "cell_type": "code",
      "execution_count": null,
      "metadata": {
        "id": "DnfPBjEZrk18"
      },
      "outputs": [],
      "source": [
        "# RMSE KBR4 n jam ke depan\n",
        "lokasi = 'KBR4'\n",
        "n = 4\n",
        "y_pred_list = []\n",
        "y_test_list = []\n",
        "for i in range(len(y_test_scale_inv)):\n",
        "  y_pred_list.append(y_pred_scale_inv[i][n - 1][3])\n",
        "  y_test_list.append(y_test_scale_inv[i][n - 1][3])\n",
        "\n",
        "print(f'{lokasi} RMSE: %.3f cm' % sqrt(mean_squared_error(y_test_list, y_pred_list)))\n",
        "\n",
        "plt.plot(y_test_list, label = f\"TMA {lokasi} (RMSE: {round(sqrt(mean_squared_error(y_test_list, y_pred_list)), 3)} cm)\")\n",
        "plt.plot(y_pred_list, label = \"prediksi\")\n",
        "plt.title(f\"Aktual vs Prediksi {lokasi} {n} Jam Ke Depan\")\n",
        "plt.legend()\n",
        "plt.show()"
      ]
    },
    {
      "cell_type": "code",
      "execution_count": null,
      "metadata": {
        "id": "OKQx5Jd4F_Z3"
      },
      "outputs": [],
      "source": [
        "fig, ax = plt.subplots()\n",
        "ax.scatter(y_pred_list, y_test_list)\n",
        "slope = 1\n",
        "x_0 = 1100\n",
        "y_0 = 1100\n",
        "x_1 = 1180\n",
        "y_1 = slope*(x_1 - x_0) + y_0\n",
        "\n",
        "ax.scatter([x_0, x_1], [y_0, y_1], c='r')\n",
        "ax.plot([x_0, x_1], [y_0, y_1], c='r')\n",
        "plt.title(f\"Aktual vs Prediksi {lokasi} {n} Jam Ke Depan\")\n",
        "plt.xlabel(\"Prediksi\")\n",
        "plt.ylabel(\"Aktual\")\n",
        "plt.show()"
      ]
    },
    {
      "cell_type": "code",
      "execution_count": null,
      "metadata": {
        "id": "FsourbuProDr"
      },
      "outputs": [],
      "source": [
        "# RMSE KBR4 n jam ke depan\n",
        "lokasi = 'KBR4'\n",
        "n = 5\n",
        "y_pred_list = []\n",
        "y_test_list = []\n",
        "for i in range(len(y_test_scale_inv)):\n",
        "  y_pred_list.append(y_pred_scale_inv[i][n - 1][3])\n",
        "  y_test_list.append(y_test_scale_inv[i][n - 1][3])\n",
        "\n",
        "print(f'{lokasi} RMSE: %.3f cm' % sqrt(mean_squared_error(y_test_list, y_pred_list)))\n",
        "\n",
        "plt.plot(y_test_list, label = f\"TMA {lokasi} (RMSE: {round(sqrt(mean_squared_error(y_test_list, y_pred_list)), 3)} cm)\")\n",
        "plt.plot(y_pred_list, label = \"prediksi\")\n",
        "plt.title(f\"Aktual vs Prediksi {lokasi} {n} Jam Ke Depan\")\n",
        "plt.legend()\n",
        "plt.show()"
      ]
    },
    {
      "cell_type": "code",
      "execution_count": null,
      "metadata": {
        "id": "1Sfp_RQiGFTe"
      },
      "outputs": [],
      "source": [
        "fig, ax = plt.subplots()\n",
        "ax.scatter(y_pred_list, y_test_list)\n",
        "slope = 1\n",
        "x_0 = 1100\n",
        "y_0 = 1100\n",
        "x_1 = 1180\n",
        "y_1 = slope*(x_1 - x_0) + y_0\n",
        "\n",
        "ax.scatter([x_0, x_1], [y_0, y_1], c='r')\n",
        "ax.plot([x_0, x_1], [y_0, y_1], c='r')\n",
        "plt.title(f\"Aktual vs Prediksi {lokasi} {n} Jam Ke Depan\")\n",
        "plt.xlabel(\"Prediksi\")\n",
        "plt.ylabel(\"Aktual\")\n",
        "plt.show()"
      ]
    },
    {
      "cell_type": "code",
      "execution_count": null,
      "metadata": {
        "id": "WAUv5E9srqxS"
      },
      "outputs": [],
      "source": [
        "# RMSE KBR4 n jam ke depan\n",
        "lokasi = 'KBR4'\n",
        "n = 6\n",
        "y_pred_list = []\n",
        "y_test_list = []\n",
        "for i in range(len(y_test_scale_inv)):\n",
        "  y_pred_list.append(y_pred_scale_inv[i][n - 1][3])\n",
        "  y_test_list.append(y_test_scale_inv[i][n - 1][3])\n",
        "\n",
        "print(f'{lokasi} RMSE: %.3f cm' % sqrt(mean_squared_error(y_test_list, y_pred_list)))\n",
        "\n",
        "plt.plot(y_test_list, label = f\"TMA {lokasi} (RMSE: {round(sqrt(mean_squared_error(y_test_list, y_pred_list)), 3)} cm)\")\n",
        "plt.plot(y_pred_list, label = \"prediksi\")\n",
        "plt.title(f\"Aktual vs Prediksi {lokasi} {n} Jam Ke Depan\")\n",
        "plt.legend()\n",
        "plt.show()"
      ]
    },
    {
      "cell_type": "code",
      "execution_count": null,
      "metadata": {
        "id": "3udsnrd8IgxV"
      },
      "outputs": [],
      "source": [
        "fig, ax = plt.subplots()\n",
        "ax.scatter(y_pred_list, y_test_list)\n",
        "slope = 1\n",
        "x_0 = 1100\n",
        "y_0 = 1100\n",
        "x_1 = 1180\n",
        "y_1 = slope*(x_1 - x_0) + y_0\n",
        "\n",
        "ax.scatter([x_0, x_1], [y_0, y_1], c='r')\n",
        "ax.plot([x_0, x_1], [y_0, y_1], c='r')\n",
        "plt.title(f\"Aktual vs Prediksi {lokasi} {n} Jam Ke Depan\")\n",
        "plt.xlabel(\"Prediksi\")\n",
        "plt.ylabel(\"Aktual\")\n",
        "plt.show()"
      ]
    },
    {
      "cell_type": "code",
      "execution_count": null,
      "metadata": {
        "id": "k4NOSyCPfCBy"
      },
      "outputs": [],
      "source": [
        "# RMSE Manggarai n jam ke depan\n",
        "lokasi = 'Manggarai'\n",
        "n = 1\n",
        "y_pred_list = []\n",
        "y_test_list = []\n",
        "for i in range(len(y_test_scale_inv)):\n",
        "  y_pred_list.append(y_pred_scale_inv[i][n - 1][4])\n",
        "  y_test_list.append(y_test_scale_inv[i][n - 1][4])\n",
        "\n",
        "print(f'{lokasi} RMSE: %.3f cm' % sqrt(mean_squared_error(y_test_list, y_pred_list)))\n",
        "\n",
        "plt.plot(y_test_list, label = f\"TMA {lokasi} (RMSE: {round(sqrt(mean_squared_error(y_test_list, y_pred_list)), 3)} cm)\")\n",
        "plt.plot(y_pred_list, label = \"prediksi\")\n",
        "plt.title(f\"Aktual vs Prediksi {lokasi} {n} Jam Ke Depan\")\n",
        "plt.legend()\n",
        "plt.show()"
      ]
    },
    {
      "cell_type": "code",
      "execution_count": null,
      "metadata": {
        "id": "PAO6qGHbLd-F"
      },
      "outputs": [],
      "source": [
        "fig, ax = plt.subplots()\n",
        "ax.scatter(y_pred_list, y_test_list)\n",
        "slope = 1\n",
        "x_0 = 550\n",
        "y_0 = 550\n",
        "x_1 = 800\n",
        "y_1 = slope*(x_1 - x_0) + y_0\n",
        "\n",
        "ax.scatter([x_0, x_1], [y_0, y_1], c='r')\n",
        "ax.plot([x_0, x_1], [y_0, y_1], c='r')\n",
        "plt.title(f\"Aktual vs Prediksi {lokasi} {n} Jam Ke Depan\")\n",
        "plt.xlabel(\"Prediksi\")\n",
        "plt.ylabel(\"Aktual\")\n",
        "plt.show()"
      ]
    },
    {
      "cell_type": "code",
      "execution_count": null,
      "metadata": {
        "id": "_fNAf2Ijf0Sp"
      },
      "outputs": [],
      "source": [
        "# RMSE Manggarai n jam ke depan\n",
        "lokasi = 'Manggarai'\n",
        "n = 2\n",
        "y_pred_list = []\n",
        "y_test_list = []\n",
        "for i in range(len(y_test_scale_inv)):\n",
        "  y_pred_list.append(y_pred_scale_inv[i][n - 1][4])\n",
        "  y_test_list.append(y_test_scale_inv[i][n - 1][4])\n",
        "\n",
        "print(f'{lokasi} RMSE: %.3f cm' % sqrt(mean_squared_error(y_test_list, y_pred_list)))\n",
        "\n",
        "plt.plot(y_test_list, label = f\"TMA {lokasi} (RMSE: {round(sqrt(mean_squared_error(y_test_list, y_pred_list)), 3)} cm)\")\n",
        "plt.plot(y_pred_list, label = \"prediksi\")\n",
        "plt.title(f\"Aktual vs Prediksi {lokasi} {n} Jam Ke Depan\")\n",
        "plt.legend()\n",
        "plt.show()"
      ]
    },
    {
      "cell_type": "code",
      "execution_count": null,
      "metadata": {
        "id": "5jSoUwMQLkvx"
      },
      "outputs": [],
      "source": [
        "fig, ax = plt.subplots()\n",
        "ax.scatter(y_pred_list, y_test_list)\n",
        "slope = 1\n",
        "x_0 = 550\n",
        "y_0 = 550\n",
        "x_1 = 800\n",
        "y_1 = slope*(x_1 - x_0) + y_0\n",
        "\n",
        "ax.scatter([x_0, x_1], [y_0, y_1], c='r')\n",
        "ax.plot([x_0, x_1], [y_0, y_1], c='r')\n",
        "plt.title(f\"Aktual vs Prediksi {lokasi} {n} Jam Ke Depan\")\n",
        "plt.xlabel(\"Prediksi\")\n",
        "plt.ylabel(\"Aktual\")\n",
        "plt.show()"
      ]
    },
    {
      "cell_type": "code",
      "execution_count": null,
      "metadata": {
        "id": "HwVNBBDcsifl"
      },
      "outputs": [],
      "source": [
        "# RMSE Manggarai n jam ke depan\n",
        "lokasi = 'Manggarai'\n",
        "n = 3\n",
        "y_pred_list = []\n",
        "y_test_list = []\n",
        "for i in range(len(y_test_scale_inv)):\n",
        "  y_pred_list.append(y_pred_scale_inv[i][n - 1][4])\n",
        "  y_test_list.append(y_test_scale_inv[i][n - 1][4])\n",
        "\n",
        "print(f'{lokasi} RMSE: %.3f cm' % sqrt(mean_squared_error(y_test_list, y_pred_list)))\n",
        "\n",
        "plt.plot(y_test_list, label = f\"TMA {lokasi} (RMSE: {round(sqrt(mean_squared_error(y_test_list, y_pred_list)), 3)} cm)\")\n",
        "plt.plot(y_pred_list, label = \"prediksi\")\n",
        "plt.title(f\"Aktual vs Prediksi {lokasi} {n} Jam Ke Depan\")\n",
        "plt.legend()\n",
        "plt.show()"
      ]
    },
    {
      "cell_type": "code",
      "execution_count": null,
      "metadata": {
        "id": "fQKdOetKLosm"
      },
      "outputs": [],
      "source": [
        "fig, ax = plt.subplots()\n",
        "ax.scatter(y_pred_list, y_test_list)\n",
        "slope = 1\n",
        "x_0 = 550\n",
        "y_0 = 550\n",
        "x_1 = 800\n",
        "y_1 = slope*(x_1 - x_0) + y_0\n",
        "\n",
        "ax.scatter([x_0, x_1], [y_0, y_1], c='r')\n",
        "ax.plot([x_0, x_1], [y_0, y_1], c='r')\n",
        "plt.title(f\"Aktual vs Prediksi {lokasi} {n} Jam Ke Depan\")\n",
        "plt.xlabel(\"Prediksi\")\n",
        "plt.ylabel(\"Aktual\")\n",
        "plt.show()"
      ]
    },
    {
      "cell_type": "code",
      "execution_count": null,
      "metadata": {
        "id": "VJgn1EepslYD"
      },
      "outputs": [],
      "source": [
        "# RMSE Manggarai n jam ke depan\n",
        "lokasi = 'Manggarai'\n",
        "n = 4\n",
        "y_pred_list = []\n",
        "y_test_list = []\n",
        "for i in range(len(y_test_scale_inv)):\n",
        "  y_pred_list.append(y_pred_scale_inv[i][n - 1][4])\n",
        "  y_test_list.append(y_test_scale_inv[i][n - 1][4])\n",
        "\n",
        "print(f'{lokasi} RMSE: %.3f cm' % sqrt(mean_squared_error(y_test_list, y_pred_list)))\n",
        "\n",
        "plt.plot(y_test_list, label = f\"TMA {lokasi} (RMSE: {round(sqrt(mean_squared_error(y_test_list, y_pred_list)), 3)} cm)\")\n",
        "plt.plot(y_pred_list, label = \"prediksi\")\n",
        "plt.title(f\"Aktual vs Prediksi {lokasi} {n} Jam Ke Depan\")\n",
        "plt.legend()\n",
        "plt.show()"
      ]
    },
    {
      "cell_type": "code",
      "execution_count": null,
      "metadata": {
        "id": "JmbAqfzcLttd"
      },
      "outputs": [],
      "source": [
        "fig, ax = plt.subplots()\n",
        "ax.scatter(y_pred_list, y_test_list)\n",
        "slope = 1\n",
        "x_0 = 550\n",
        "y_0 = 550\n",
        "x_1 = 800\n",
        "y_1 = slope*(x_1 - x_0) + y_0\n",
        "\n",
        "ax.scatter([x_0, x_1], [y_0, y_1], c='r')\n",
        "ax.plot([x_0, x_1], [y_0, y_1], c='r')\n",
        "plt.title(f\"Aktual vs Prediksi {lokasi} {n} Jam Ke Depan\")\n",
        "plt.xlabel(\"Prediksi\")\n",
        "plt.ylabel(\"Aktual\")\n",
        "plt.show()"
      ]
    },
    {
      "cell_type": "code",
      "execution_count": null,
      "metadata": {
        "id": "4A5YFvr6soqC"
      },
      "outputs": [],
      "source": [
        "# RMSE Manggarai n jam ke depan\n",
        "lokasi = 'Manggarai'\n",
        "n = 5\n",
        "y_pred_list = []\n",
        "y_test_list = []\n",
        "for i in range(len(y_test_scale_inv)):\n",
        "  y_pred_list.append(y_pred_scale_inv[i][n - 1][4])\n",
        "  y_test_list.append(y_test_scale_inv[i][n - 1][4])\n",
        "\n",
        "print(f'{lokasi} RMSE: %.3f cm' % sqrt(mean_squared_error(y_test_list, y_pred_list)))\n",
        "\n",
        "plt.plot(y_test_list, label = f\"TMA {lokasi} (RMSE: {round(sqrt(mean_squared_error(y_test_list, y_pred_list)), 3)} cm)\")\n",
        "plt.plot(y_pred_list, label = \"prediksi\")\n",
        "plt.title(f\"Aktual vs Prediksi {lokasi} {n} Jam Ke Depan\")\n",
        "plt.legend()\n",
        "plt.show()"
      ]
    },
    {
      "cell_type": "code",
      "execution_count": null,
      "metadata": {
        "id": "CCWthfFPLxTn"
      },
      "outputs": [],
      "source": [
        "fig, ax = plt.subplots()\n",
        "ax.scatter(y_pred_list, y_test_list)\n",
        "slope = 1\n",
        "x_0 = 550\n",
        "y_0 = 550\n",
        "x_1 = 800\n",
        "y_1 = slope*(x_1 - x_0) + y_0\n",
        "\n",
        "ax.scatter([x_0, x_1], [y_0, y_1], c='r')\n",
        "ax.plot([x_0, x_1], [y_0, y_1], c='r')\n",
        "plt.title(f\"Aktual vs Prediksi {lokasi} {n} Jam Ke Depan\")\n",
        "plt.xlabel(\"Prediksi\")\n",
        "plt.ylabel(\"Aktual\")\n",
        "plt.show()"
      ]
    },
    {
      "cell_type": "code",
      "execution_count": null,
      "metadata": {
        "id": "5LMhjw7CssH_"
      },
      "outputs": [],
      "source": [
        "# RMSE Manggarai n jam ke depan\n",
        "lokasi = 'Manggarai'\n",
        "n = 6\n",
        "y_pred_list = []\n",
        "y_test_list = []\n",
        "for i in range(len(y_test_scale_inv)):\n",
        "  y_pred_list.append(y_pred_scale_inv[i][n - 1][4])\n",
        "  y_test_list.append(y_test_scale_inv[i][n - 1][4])\n",
        "\n",
        "print(f'{lokasi} RMSE: %.3f cm' % sqrt(mean_squared_error(y_test_list, y_pred_list)))\n",
        "\n",
        "plt.plot(y_test_list, label = f\"TMA {lokasi} (RMSE: {round(sqrt(mean_squared_error(y_test_list, y_pred_list)), 3)} cm)\")\n",
        "plt.plot(y_pred_list, label = \"prediksi\")\n",
        "plt.title(f\"Aktual vs Prediksi {lokasi} {n} Jam Ke Depan\")\n",
        "plt.legend()\n",
        "plt.show()"
      ]
    },
    {
      "cell_type": "code",
      "execution_count": null,
      "metadata": {
        "id": "h5oU77phL0Aq"
      },
      "outputs": [],
      "source": [
        "fig, ax = plt.subplots()\n",
        "ax.scatter(y_pred_list, y_test_list)\n",
        "slope = 1\n",
        "x_0 = 550\n",
        "y_0 = 550\n",
        "x_1 = 800\n",
        "y_1 = slope*(x_1 - x_0) + y_0\n",
        "\n",
        "ax.scatter([x_0, x_1], [y_0, y_1], c='r')\n",
        "ax.plot([x_0, x_1], [y_0, y_1], c='r')\n",
        "plt.title(f\"Aktual vs Prediksi {lokasi} {n} Jam Ke Depan\")\n",
        "plt.xlabel(\"Prediksi\")\n",
        "plt.ylabel(\"Aktual\")\n",
        "plt.show()"
      ]
    },
    {
      "cell_type": "code",
      "execution_count": null,
      "metadata": {
        "id": "aLygLZMXL7Tw"
      },
      "outputs": [],
      "source": [
        "import seaborn as sns"
      ]
    },
    {
      "cell_type": "code",
      "execution_count": null,
      "metadata": {
        "id": "gcFxZ25jqf5g"
      },
      "outputs": [],
      "source": [
        "x = 0\n",
        "lokasi = 'Katulampa'\n",
        "list_test = []\n",
        "list_pred = []\n",
        "list_diff = []\n",
        "jam = []\n",
        "for i in range(len(y_test_scale_inv)):\n",
        "  for j in range(6):\n",
        "    jam.append(j+1)\n",
        "    list_test.append(y_test_scale_inv[i][j][x])\n",
        "    list_pred.append(y_pred_scale_inv[i][j][x])\n",
        "    list_diff.append(y_test_scale_inv[i][j][x] - y_pred_scale_inv[i][j][x])\n",
        "\n",
        "data = pd.DataFrame([jam, list_test, list_pred, list_diff])\n",
        "data = data.T\n",
        "data.columns=[\"Jam\", \"Test\", \"Pred\", \"Diff\"]\n",
        "\n",
        "sns.boxplot(x = \"Jam\", y = \"Diff\", data=data).set(xlabel = f\"{lokasi} n Jam Ke Depan\", ylabel = \"Selisih (Test - Prediksi)\")\n",
        "\n",
        "data.boxplot(by = \"Jam\", column = ['Diff'], grid = False)\n",
        "plt.axhline(0, linestyle = \"dashed\", linewidth = 0.5, color='r')\n",
        "plt.xlabel(f\"{lokasi} n Jam ke Depan\")\n",
        "plt.ylabel(\"Selisih (Test - Prediksi)\")\n",
        "plt.title(\"Sebaran Selisih Prediksi\")\n",
        "plt.show()"
      ]
    },
    {
      "cell_type": "code",
      "execution_count": null,
      "metadata": {
        "id": "V4HwpUOpt6Cz"
      },
      "outputs": [],
      "source": [
        "x = 1\n",
        "lokasi = 'Depok'\n",
        "list_test = []\n",
        "list_pred = []\n",
        "list_diff = []\n",
        "list_diff_squared = []\n",
        "jam = []\n",
        "for i in range(len(y_test_scale_inv)):\n",
        "  for j in range(6):\n",
        "    jam.append(j+1)\n",
        "    list_test.append(y_test_scale_inv[i][j][x])\n",
        "    list_pred.append(y_pred_scale_inv[i][j][x])\n",
        "    list_diff.append(y_test_scale_inv[i][j][x] - y_pred_scale_inv[i][j][x])\n",
        "    list_diff_squared.append((y_test_scale_inv[i][j][x] - y_pred_scale_inv[i][j][x])**2)\n",
        "\n",
        "data = pd.DataFrame([jam, list_test, list_pred, list_diff, list_diff_squared])\n",
        "data = data.T\n",
        "data.columns=[\"Jam\", \"Test\", \"Pred\", \"Diff\", \"Diff_Squared\"]\n",
        "\n",
        "sns.boxplot(x = \"Jam\", y = \"Diff\", data=data).set(xlabel = f\"{lokasi} n Jam Ke Depan\", ylabel = \"Selisih (Test - Prediksi)\")\n",
        "\n",
        "data.boxplot(by = \"Jam\", column = ['Diff'], grid = False)\n",
        "plt.axhline(0, linestyle = \"dashed\", linewidth = 0.5, color='r')\n",
        "plt.xlabel(f\"{lokasi} n Jam ke Depan\")\n",
        "plt.ylabel(\"Selisih (Test - Prediksi)\")\n",
        "plt.title(\"Sebaran Selisih Prediksi\")\n",
        "plt.show()"
      ]
    },
    {
      "cell_type": "code",
      "execution_count": null,
      "metadata": {
        "id": "KmQwNwSUukjI"
      },
      "outputs": [],
      "source": [
        "x = 2\n",
        "lokasi = 'KBR2'\n",
        "list_test = []\n",
        "list_pred = []\n",
        "list_diff = []\n",
        "jam = []\n",
        "for i in range(len(y_test_scale_inv)):\n",
        "  for j in range(6):\n",
        "    jam.append(j+1)\n",
        "    list_test.append(y_test_scale_inv[i][j][x])\n",
        "    list_pred.append(y_pred_scale_inv[i][j][x])\n",
        "    list_diff.append(y_test_scale_inv[i][j][x] - y_pred_scale_inv[i][j][x])\n",
        "\n",
        "data = pd.DataFrame([jam, list_test, list_pred, list_diff])\n",
        "data = data.T\n",
        "data.columns=[\"Jam\", \"Test\", \"Pred\", \"Diff\"]\n",
        "\n",
        "sns.boxplot(x = \"Jam\", y = \"Diff\", data=data).set(xlabel = f\"{lokasi} n Jam Ke Depan\", ylabel = \"Selisih (Test - Prediksi)\")\n",
        "\n",
        "data.boxplot(by = \"Jam\", column = ['Diff'], grid = False)\n",
        "plt.axhline(0, linestyle = \"dashed\", linewidth = 0.5, color='r')\n",
        "plt.xlabel(f\"{lokasi} n Jam ke Depan\")\n",
        "plt.ylabel(\"Selisih (Test - Prediksi)\")\n",
        "plt.title(\"Sebaran Selisih Prediksi\")\n",
        "plt.show()"
      ]
    },
    {
      "cell_type": "code",
      "execution_count": null,
      "metadata": {
        "id": "4WcN-J2Mo7Tn"
      },
      "outputs": [],
      "source": [
        "x = 3\n",
        "lokasi = 'KBR4'\n",
        "list_test = []\n",
        "list_pred = []\n",
        "list_diff = []\n",
        "jam = []\n",
        "for i in range(len(y_test_scale_inv)):\n",
        "  for j in range(6):\n",
        "    jam.append(j+1)\n",
        "    list_test.append(y_test_scale_inv[i][j][x])\n",
        "    list_pred.append(y_pred_scale_inv[i][j][x])\n",
        "    list_diff.append(y_test_scale_inv[i][j][x] - y_pred_scale_inv[i][j][x])\n",
        "\n",
        "data = pd.DataFrame([jam, list_test, list_pred, list_diff])\n",
        "data = data.T\n",
        "data.columns=[\"Jam\", \"Test\", \"Pred\", \"Diff\"]\n",
        "\n",
        "sns.boxplot(x = \"Jam\", y = \"Diff\", data=data).set(xlabel = f\"{lokasi} n Jam Ke Depan\", ylabel = \"Selisih (Test - Prediksi)\")\n",
        "\n",
        "data.boxplot(by = \"Jam\", column = ['Diff'], grid = False)\n",
        "plt.axhline(0, linestyle = \"dashed\", linewidth = 0.5, color='r')\n",
        "plt.xlabel(f\"{lokasi} n Jam ke Depan\")\n",
        "plt.ylabel(\"Selisih (Test - Prediksi)\")\n",
        "plt.title(\"Sebaran Selisih Prediksi\")\n",
        "plt.show()"
      ]
    },
    {
      "cell_type": "code",
      "execution_count": null,
      "metadata": {
        "id": "Qca0Ai8x10fB"
      },
      "outputs": [],
      "source": [
        "x = 4\n",
        "lokasi = 'Manggarai'\n",
        "list_test = []\n",
        "list_pred = []\n",
        "list_diff = []\n",
        "jam = []\n",
        "for i in range(len(y_test_scale_inv)):\n",
        "  for j in range(6):\n",
        "    jam.append(j+1)\n",
        "    list_test.append(y_test_scale_inv[i][j][x])\n",
        "    list_pred.append(y_pred_scale_inv[i][j][x])\n",
        "    list_diff.append(y_test_scale_inv[i][j][x] - y_pred_scale_inv[i][j][x])\n",
        "\n",
        "data = pd.DataFrame([jam, list_test, list_pred, list_diff])\n",
        "data = data.T\n",
        "data.columns=[\"Jam\", \"Test\", \"Pred\", \"Diff\"]\n",
        "\n",
        "sns.boxplot(x = \"Jam\", y = \"Diff\", data=data).set(xlabel = f\"{lokasi} n Jam Ke Depan\", ylabel = \"Selisih (Test - Prediksi)\")\n",
        "\n",
        "data.boxplot(by = \"Jam\", column = ['Diff'], grid = False)\n",
        "plt.axhline(0, linestyle = \"dashed\", linewidth = 0.5, color='r')\n",
        "plt.xlabel(f\"{lokasi} n Jam ke Depan\")\n",
        "plt.ylabel(\"Selisih (Test - Prediksi)\")\n",
        "plt.title(\"Sebaran Selisih Prediksi\")\n",
        "plt.show()"
      ]
    },
    {
      "cell_type": "code",
      "source": [
        "model.save('drive/Shareddrives/JSC Pengendalian Banjir DKI/ciliwung_manggarai_multivariate_multistep_lstm_7hari_5lokasi_0.6.6')"
      ],
      "metadata": {
        "id": "mRSHHNhnrXmD"
      },
      "execution_count": null,
      "outputs": []
    },
    {
      "cell_type": "code",
      "execution_count": null,
      "metadata": {
        "id": "idoLqYI9nbaX"
      },
      "outputs": [],
      "source": [
        "# import tensorflow as tf\n",
        "# from tensorflow import keras\n",
        "# tf.keras.models.load_model('drive/Shareddrives/JSC Pengendalian Banjir DKI/ciliwung_manggarai_multivariate_multistep_lstm_7hari_5lokasi_0.6.6')"
      ]
    }
  ],
  "metadata": {
    "colab": {
      "provenance": [],
      "include_colab_link": true
    },
    "kernelspec": {
      "display_name": "Python 3",
      "name": "python3"
    },
    "language_info": {
      "name": "python"
    }
  },
  "nbformat": 4,
  "nbformat_minor": 0
}